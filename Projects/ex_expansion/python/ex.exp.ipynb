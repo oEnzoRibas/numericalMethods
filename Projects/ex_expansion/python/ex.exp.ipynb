{
 "cells": [
  {
   "cell_type": "markdown",
   "id": "ef38c81a",
   "metadata": {},
   "source": [
    "# Base Functions"
   ]
  },
  {
   "cell_type": "code",
   "execution_count": 10,
   "id": "bb94d208",
   "metadata": {},
   "outputs": [
    {
     "name": "stdout",
     "output_type": "stream",
     "text": [
      "Collecting mpmath\n",
      "  Downloading mpmath-1.3.0-py3-none-any.whl.metadata (8.6 kB)\n",
      "Downloading mpmath-1.3.0-py3-none-any.whl (536 kB)\n",
      "\u001b[2K   \u001b[90m━━━━━━━━━━━━━━━━━━━━━━━━━━━━━━━━━━━━━━━\u001b[0m \u001b[32m536.2/536.2 kB\u001b[0m \u001b[31m133.0 kB/s\u001b[0m eta \u001b[36m0:00:00\u001b[0m00:01\u001b[0mm\n",
      "\u001b[?25hInstalling collected packages: mpmath\n",
      "Successfully installed mpmath-1.3.0\n",
      "\n",
      "\u001b[1m[\u001b[0m\u001b[34;49mnotice\u001b[0m\u001b[1;39;49m]\u001b[0m\u001b[39;49m A new release of pip is available: \u001b[0m\u001b[31;49m24.3.1\u001b[0m\u001b[39;49m -> \u001b[0m\u001b[32;49m25.1.1\u001b[0m\n",
      "\u001b[1m[\u001b[0m\u001b[34;49mnotice\u001b[0m\u001b[1;39;49m]\u001b[0m\u001b[39;49m To update, run: \u001b[0m\u001b[32;49mpip3 install --upgrade pip\u001b[0m\n",
      "Note: you may need to restart the kernel to use updated packages.\n"
     ]
    }
   ],
   "source": [
    "pip install mpmath"
   ]
  },
  {
   "cell_type": "code",
   "execution_count": 11,
   "id": "dbf64e2b",
   "metadata": {},
   "outputs": [],
   "source": [
    "import math, numpy as np, mpmath as mp, pandas as pd, matplotlib.pyplot as plt, plotly.express as px, plotly.graph_objects as go"
   ]
  },
  {
   "cell_type": "code",
   "execution_count": 12,
   "id": "ca9df3c4",
   "metadata": {},
   "outputs": [],
   "source": [
    "def taylor_series_expansion(x, max_terms=1000, dps=20):\n",
    "    \"\"\"\n",
    "    Calculates the Taylor series expansion of e^x adaptively \n",
    "    with given decimal precision (dps) and up to max_terms.\n",
    "    \n",
    "    :param x: The value of x in e^x.\n",
    "    :param max_terms: Maximum number of terms allowed in the series\n",
    "    :param dps: Desired decimal precision (sets both mp.dps and epsilon = 1e-dps)\n",
    "    :return: The approximation of e^x\n",
    "    \"\"\"\n",
    "    mp.mp.dps = dps\n",
    "    epsilon = mp.mpf(f\"1e-{dps}\")  # epsilon = 1e-dps\n",
    "    \n",
    "    result = mp.mpf(1)  # T0 = 1\n",
    "    term = mp.mpf(1)\n",
    "    k = 1\n",
    "    \n",
    "    while abs(term) > epsilon * abs(result) and k < max_terms:\n",
    "        term = term * mp.mpf(x) / k\n",
    "        result += term\n",
    "        k += 1\n",
    "    \n",
    "    return result"
   ]
  },
  {
   "cell_type": "code",
   "execution_count": 13,
   "id": "304ab310",
   "metadata": {},
   "outputs": [],
   "source": [
    "def calculate_ex(x, n : int, precision : int = 20):\n",
    "    \"\"\"\n",
    "    Calculates e^x using the Taylor series expansion and computes the error.\n",
    "    \n",
    "    :param x: The value of x in e^x.\n",
    "    :param n: The number of terms in the Taylor series.\n",
    "    :param precision: The precision for mpmath calculations (default is 20).\n",
    "    :return: A tuple containing:\n",
    "             straight - The direct approximation of e^x.\n",
    "             inverted - The inverse approximation (1/e^-x) if x is negative, otherwise None.\n",
    "             real_value - The real value of e^x.\n",
    "             directError - The error in the direct approximation.\n",
    "             invertedError - The error in the inverse approximation if applicable, otherwise None.\n",
    "    \"\"\"\n",
    "    mp.mp.dps = precision\n",
    "    \n",
    "    real_value = mp.exp(x)\n",
    "    straight = taylor_series_expansion(x, n, precision)\n",
    "    directError = mp.mpf(abs(real_value - straight))\n",
    "\n",
    "    if x < 0:\n",
    "        inverted = mp.mpf(1) / taylor_series_expansion(-x, n, precision)\n",
    "        invertedError = mp.mpf(abs(real_value - inverted))\n",
    "        return straight, inverted, directError, invertedError, real_value\n",
    "    else:\n",
    "        return straight, None, directError, None, real_value"
   ]
  },
  {
   "cell_type": "code",
   "execution_count": 14,
   "id": "83621cd0",
   "metadata": {},
   "outputs": [],
   "source": [
    "def show_ex(x, n : int, precision : int = 20):\n",
    "    \"\"\"\n",
    "    Displays the value of e^x using the Taylor series expansion.\n",
    "    \n",
    "    :param x: The value of x in e^x.\n",
    "    :param n: The number of terms in the Taylor series.\n",
    "    :param precision: The precision for mpmath calculations (default is 20).\n",
    "    \"\"\"\n",
    "    mp.mp.dps = precision\n",
    "\n",
    "    straight, inverted, directError, inverseError, real_value = calculate_ex(x, n, precision)\n",
    "\n",
    "    print(f\"\\n--------------------------------------------\\n\")\n",
    "    print(f\"e^x for x = {x} with {n} terms and precision {precision}:\\n\")\n",
    "    print(f\"\\nReal value:                  {real_value} \\n\")\n",
    "    print(f\"Direct apx:                  {straight}\")\n",
    "    print(f\"Direct error:                {directError}\")\n",
    "    if inverted is not None:\n",
    "        print(f\"Inverse apx: (1/e^-x):       {inverted}\")\n",
    "        print(f\"Inverse error:               {inverseError}\")\n",
    "        \n",
    "    print(f\"\\n--------------------------------------------\\n\")"
   ]
  },
  {
   "cell_type": "code",
   "execution_count": 15,
   "id": "b07a68d1",
   "metadata": {},
   "outputs": [],
   "source": [
    "def plot_ex(x, n_values : list, precision : int = 20, ):\n",
    "    \"\"\"\n",
    "    Plots the error and approximation of e^x using the Taylor series expansion for different numbers of terms.\n",
    "\n",
    "    :param x: The value of x in e^x.\n",
    "    :param n_values: A list of integers representing the number of terms in the Taylor series to evaluate.\n",
    "    :param precision: The precision for mpmath calculations (default is 20).\n",
    "    \"\"\"\n",
    "\n",
    "    errors = []\n",
    "    real_values = []\n",
    "    values = []\n",
    "\n",
    "    for n in n_values:\n",
    "        straight_values, inverted_values, directError, inverseError, real_value = calculate_ex(x, n, precision=precision)\n",
    "        \n",
    "        if x < 0:\n",
    "            value = inverted_values\n",
    "            error = inverseError\n",
    "        else:\n",
    "            value = straight_values\n",
    "            error = directError\n",
    "        \n",
    "        errors.append(error)\n",
    "        real_values.append(real_value)\n",
    "        values.append(value)\n",
    "\n",
    "    fig = go.Figure()\n",
    "\n",
    "    fig.add_trace(go.Scatter(\n",
    "        x=list(n_values),\n",
    "        y=[float(err) for err in errors],\n",
    "        mode='lines',\n",
    "        name='Error',\n",
    "        line=dict(color='red', dash='dashdot')\n",
    "    ))\n",
    "\n",
    "    fig.add_trace(go.Scatter(\n",
    "        x=list(n_values),\n",
    "        y=[float(rv) for rv in real_values],\n",
    "        mode='lines',\n",
    "        name='Real value of e^x',\n",
    "        line=dict(color='blue', dash='dot')\n",
    "    ))\n",
    "\n",
    "    fig.add_trace(go.Scatter(\n",
    "        x=list(n_values),\n",
    "        y=[float(val) for val in values],\n",
    "        mode='lines',\n",
    "        name='Approximation of e^x',\n",
    "        line=dict(color='green')\n",
    "    ))\n",
    "\n",
    "    fig.update_layout(\n",
    "        title='Error in Taylor Series Approximation for e^x',\n",
    "        xaxis_title='Number of Terms (n)',\n",
    "        yaxis_title='Value',\n",
    "        #yaxis_range=[- (float(min(values)) * 0.9), float(max(values)) * 1.1],\n",
    "        #xaxis_range=[min(n_values) * 0.5, max(n_values) * 1.01],\n",
    "        autosize=True,\n",
    "        hovermode=\"x unified\",\n",
    "        showlegend=True,\n",
    "        #yaxis_type=\"log\"\n",
    "    )\n",
    "\n",
    "    fig.show()\n"
   ]
  },
  {
   "cell_type": "code",
   "execution_count": 16,
   "id": "b34d757b",
   "metadata": {},
   "outputs": [
    {
     "name": "stdout",
     "output_type": "stream",
     "text": [
      "\n",
      "--------------------------------------------\n",
      "\n",
      "e^x for x = 3 with 1000 terms and precision 100:\n",
      "\n",
      "\n",
      "Real value:                  20.0855369231876677409285296545817178969879078385541501443789342296988458780919737312044971602530177 \n",
      "\n",
      "Direct apx:                  20.0855369231876677409285296545817178969879078385541501443789342296988458780919737312044971602530177\n",
      "Direct error:                0.0\n",
      "\n",
      "--------------------------------------------\n",
      "\n",
      "\n",
      "--------------------------------------------\n",
      "\n",
      "e^x for x = 3 with 1000 terms and precision 12:\n",
      "\n",
      "\n",
      "Real value:                  20.0855369232 \n",
      "\n",
      "Direct apx:                  20.0855369232\n",
      "Direct error:                7.27595761418e-12\n",
      "\n",
      "--------------------------------------------\n",
      "\n"
     ]
    }
   ],
   "source": [
    "show_ex(3, 1000, 100)\n",
    "show_ex(3, 1000, 12)"
   ]
  },
  {
   "cell_type": "code",
   "execution_count": 17,
   "id": "e706577d",
   "metadata": {},
   "outputs": [
    {
     "data": {
      "application/vnd.plotly.v1+json": {
       "config": {
        "plotlyServerURL": "https://plot.ly"
       },
       "data": [
        {
         "line": {
          "color": "red",
          "dash": "dashdot"
         },
         "mode": "lines",
         "name": "Error",
         "type": "scatter",
         "x": [
          1,
          2,
          3,
          4,
          5,
          6,
          7,
          8,
          9,
          10,
          11,
          12,
          13,
          14,
          15,
          16,
          17,
          18,
          19,
          20,
          21,
          22,
          23,
          24,
          25,
          26,
          27,
          28,
          29,
          30,
          31,
          32,
          33,
          34,
          35,
          36,
          37,
          38,
          39,
          40,
          41,
          42,
          43,
          44,
          45,
          46,
          47,
          48,
          49,
          50,
          51,
          52,
          53,
          54,
          55,
          56,
          57,
          58,
          59,
          60,
          61,
          62,
          63,
          64,
          65,
          66,
          67,
          68,
          69,
          70,
          71,
          72,
          73,
          74,
          75,
          76,
          77,
          78,
          79,
          80,
          81,
          82,
          83,
          84,
          85,
          86,
          87,
          88,
          89,
          90,
          91,
          92,
          93,
          94,
          95,
          96,
          97,
          98,
          99
         ],
         "y": [
          19.085536923187668,
          16.085536923187668,
          11.585536923187668,
          7.085536923187668,
          3.710536923187668,
          1.6855369231876678,
          0.6730369231876677,
          0.2391083517590963,
          0.07638513747338202,
          0.022144066044810597,
          0.00587174461623917,
          0.0014338387720833254,
          0.00032436231104436433,
          0.00006832928157383483,
          0.0000134650609730071,
          0.0000024922168528415537,
          4.3480858031051195e-7,
          7.173653221678755e-8,
          1.1224524201162295e-8,
          1.6699966197506345e-9,
          2.3681748253481967e-10,
          3.207760578970327e-11,
          4.1585317004169675e-12,
          5.16913335052438e-13,
          6.171105293439894e-14,
          7.086779080234251e-15,
          7.839865909242683e-16,
          8.36733026615688e-17,
          8.646512325571898e-18,
          8.944667923005412e-19,
          1.0842021724855044e-19,
          2.710505431213761e-20,
          2.710505431213761e-20,
          2.710505431213761e-20,
          2.710505431213761e-20,
          2.710505431213761e-20,
          2.710505431213761e-20,
          2.710505431213761e-20,
          2.710505431213761e-20,
          2.710505431213761e-20,
          2.710505431213761e-20,
          2.710505431213761e-20,
          2.710505431213761e-20,
          2.710505431213761e-20,
          2.710505431213761e-20,
          2.710505431213761e-20,
          2.710505431213761e-20,
          2.710505431213761e-20,
          2.710505431213761e-20,
          2.710505431213761e-20,
          2.710505431213761e-20,
          2.710505431213761e-20,
          2.710505431213761e-20,
          2.710505431213761e-20,
          2.710505431213761e-20,
          2.710505431213761e-20,
          2.710505431213761e-20,
          2.710505431213761e-20,
          2.710505431213761e-20,
          2.710505431213761e-20,
          2.710505431213761e-20,
          2.710505431213761e-20,
          2.710505431213761e-20,
          2.710505431213761e-20,
          2.710505431213761e-20,
          2.710505431213761e-20,
          2.710505431213761e-20,
          2.710505431213761e-20,
          2.710505431213761e-20,
          2.710505431213761e-20,
          2.710505431213761e-20,
          2.710505431213761e-20,
          2.710505431213761e-20,
          2.710505431213761e-20,
          2.710505431213761e-20,
          2.710505431213761e-20,
          2.710505431213761e-20,
          2.710505431213761e-20,
          2.710505431213761e-20,
          2.710505431213761e-20,
          2.710505431213761e-20,
          2.710505431213761e-20,
          2.710505431213761e-20,
          2.710505431213761e-20,
          2.710505431213761e-20,
          2.710505431213761e-20,
          2.710505431213761e-20,
          2.710505431213761e-20,
          2.710505431213761e-20,
          2.710505431213761e-20,
          2.710505431213761e-20,
          2.710505431213761e-20,
          2.710505431213761e-20,
          2.710505431213761e-20,
          2.710505431213761e-20,
          2.710505431213761e-20,
          2.710505431213761e-20,
          2.710505431213761e-20,
          2.710505431213761e-20
         ]
        },
        {
         "line": {
          "color": "blue",
          "dash": "dot"
         },
         "mode": "lines",
         "name": "Real value of e^x",
         "type": "scatter",
         "x": [
          1,
          2,
          3,
          4,
          5,
          6,
          7,
          8,
          9,
          10,
          11,
          12,
          13,
          14,
          15,
          16,
          17,
          18,
          19,
          20,
          21,
          22,
          23,
          24,
          25,
          26,
          27,
          28,
          29,
          30,
          31,
          32,
          33,
          34,
          35,
          36,
          37,
          38,
          39,
          40,
          41,
          42,
          43,
          44,
          45,
          46,
          47,
          48,
          49,
          50,
          51,
          52,
          53,
          54,
          55,
          56,
          57,
          58,
          59,
          60,
          61,
          62,
          63,
          64,
          65,
          66,
          67,
          68,
          69,
          70,
          71,
          72,
          73,
          74,
          75,
          76,
          77,
          78,
          79,
          80,
          81,
          82,
          83,
          84,
          85,
          86,
          87,
          88,
          89,
          90,
          91,
          92,
          93,
          94,
          95,
          96,
          97,
          98,
          99
         ],
         "y": [
          20.085536923187668,
          20.085536923187668,
          20.085536923187668,
          20.085536923187668,
          20.085536923187668,
          20.085536923187668,
          20.085536923187668,
          20.085536923187668,
          20.085536923187668,
          20.085536923187668,
          20.085536923187668,
          20.085536923187668,
          20.085536923187668,
          20.085536923187668,
          20.085536923187668,
          20.085536923187668,
          20.085536923187668,
          20.085536923187668,
          20.085536923187668,
          20.085536923187668,
          20.085536923187668,
          20.085536923187668,
          20.085536923187668,
          20.085536923187668,
          20.085536923187668,
          20.085536923187668,
          20.085536923187668,
          20.085536923187668,
          20.085536923187668,
          20.085536923187668,
          20.085536923187668,
          20.085536923187668,
          20.085536923187668,
          20.085536923187668,
          20.085536923187668,
          20.085536923187668,
          20.085536923187668,
          20.085536923187668,
          20.085536923187668,
          20.085536923187668,
          20.085536923187668,
          20.085536923187668,
          20.085536923187668,
          20.085536923187668,
          20.085536923187668,
          20.085536923187668,
          20.085536923187668,
          20.085536923187668,
          20.085536923187668,
          20.085536923187668,
          20.085536923187668,
          20.085536923187668,
          20.085536923187668,
          20.085536923187668,
          20.085536923187668,
          20.085536923187668,
          20.085536923187668,
          20.085536923187668,
          20.085536923187668,
          20.085536923187668,
          20.085536923187668,
          20.085536923187668,
          20.085536923187668,
          20.085536923187668,
          20.085536923187668,
          20.085536923187668,
          20.085536923187668,
          20.085536923187668,
          20.085536923187668,
          20.085536923187668,
          20.085536923187668,
          20.085536923187668,
          20.085536923187668,
          20.085536923187668,
          20.085536923187668,
          20.085536923187668,
          20.085536923187668,
          20.085536923187668,
          20.085536923187668,
          20.085536923187668,
          20.085536923187668,
          20.085536923187668,
          20.085536923187668,
          20.085536923187668,
          20.085536923187668,
          20.085536923187668,
          20.085536923187668,
          20.085536923187668,
          20.085536923187668,
          20.085536923187668,
          20.085536923187668,
          20.085536923187668,
          20.085536923187668,
          20.085536923187668,
          20.085536923187668,
          20.085536923187668,
          20.085536923187668,
          20.085536923187668,
          20.085536923187668
         ]
        },
        {
         "line": {
          "color": "green"
         },
         "mode": "lines",
         "name": "Approximation of e^x",
         "type": "scatter",
         "x": [
          1,
          2,
          3,
          4,
          5,
          6,
          7,
          8,
          9,
          10,
          11,
          12,
          13,
          14,
          15,
          16,
          17,
          18,
          19,
          20,
          21,
          22,
          23,
          24,
          25,
          26,
          27,
          28,
          29,
          30,
          31,
          32,
          33,
          34,
          35,
          36,
          37,
          38,
          39,
          40,
          41,
          42,
          43,
          44,
          45,
          46,
          47,
          48,
          49,
          50,
          51,
          52,
          53,
          54,
          55,
          56,
          57,
          58,
          59,
          60,
          61,
          62,
          63,
          64,
          65,
          66,
          67,
          68,
          69,
          70,
          71,
          72,
          73,
          74,
          75,
          76,
          77,
          78,
          79,
          80,
          81,
          82,
          83,
          84,
          85,
          86,
          87,
          88,
          89,
          90,
          91,
          92,
          93,
          94,
          95,
          96,
          97,
          98,
          99
         ],
         "y": [
          1,
          4,
          8.5,
          13,
          16.375,
          18.4,
          19.4125,
          19.84642857142857,
          20.009151785714284,
          20.06339285714286,
          20.079665178571428,
          20.084103084415585,
          20.085212560876624,
          20.085468593906093,
          20.085523458126694,
          20.085534430970814,
          20.085536488379088,
          20.085536851451135,
          20.085536911963143,
          20.085536921517672,
          20.08553692295085,
          20.08553692315559,
          20.085536923183508,
          20.08553692318715,
          20.085536923187608,
          20.08553692318766,
          20.085536923187668,
          20.085536923187668,
          20.085536923187668,
          20.085536923187668,
          20.085536923187668,
          20.085536923187668,
          20.085536923187668,
          20.085536923187668,
          20.085536923187668,
          20.085536923187668,
          20.085536923187668,
          20.085536923187668,
          20.085536923187668,
          20.085536923187668,
          20.085536923187668,
          20.085536923187668,
          20.085536923187668,
          20.085536923187668,
          20.085536923187668,
          20.085536923187668,
          20.085536923187668,
          20.085536923187668,
          20.085536923187668,
          20.085536923187668,
          20.085536923187668,
          20.085536923187668,
          20.085536923187668,
          20.085536923187668,
          20.085536923187668,
          20.085536923187668,
          20.085536923187668,
          20.085536923187668,
          20.085536923187668,
          20.085536923187668,
          20.085536923187668,
          20.085536923187668,
          20.085536923187668,
          20.085536923187668,
          20.085536923187668,
          20.085536923187668,
          20.085536923187668,
          20.085536923187668,
          20.085536923187668,
          20.085536923187668,
          20.085536923187668,
          20.085536923187668,
          20.085536923187668,
          20.085536923187668,
          20.085536923187668,
          20.085536923187668,
          20.085536923187668,
          20.085536923187668,
          20.085536923187668,
          20.085536923187668,
          20.085536923187668,
          20.085536923187668,
          20.085536923187668,
          20.085536923187668,
          20.085536923187668,
          20.085536923187668,
          20.085536923187668,
          20.085536923187668,
          20.085536923187668,
          20.085536923187668,
          20.085536923187668,
          20.085536923187668,
          20.085536923187668,
          20.085536923187668,
          20.085536923187668,
          20.085536923187668,
          20.085536923187668,
          20.085536923187668,
          20.085536923187668
         ]
        }
       ],
       "layout": {
        "autosize": true,
        "hovermode": "x unified",
        "showlegend": true,
        "template": {
         "data": {
          "bar": [
           {
            "error_x": {
             "color": "#2a3f5f"
            },
            "error_y": {
             "color": "#2a3f5f"
            },
            "marker": {
             "line": {
              "color": "#E5ECF6",
              "width": 0.5
             },
             "pattern": {
              "fillmode": "overlay",
              "size": 10,
              "solidity": 0.2
             }
            },
            "type": "bar"
           }
          ],
          "barpolar": [
           {
            "marker": {
             "line": {
              "color": "#E5ECF6",
              "width": 0.5
             },
             "pattern": {
              "fillmode": "overlay",
              "size": 10,
              "solidity": 0.2
             }
            },
            "type": "barpolar"
           }
          ],
          "carpet": [
           {
            "aaxis": {
             "endlinecolor": "#2a3f5f",
             "gridcolor": "white",
             "linecolor": "white",
             "minorgridcolor": "white",
             "startlinecolor": "#2a3f5f"
            },
            "baxis": {
             "endlinecolor": "#2a3f5f",
             "gridcolor": "white",
             "linecolor": "white",
             "minorgridcolor": "white",
             "startlinecolor": "#2a3f5f"
            },
            "type": "carpet"
           }
          ],
          "choropleth": [
           {
            "colorbar": {
             "outlinewidth": 0,
             "ticks": ""
            },
            "type": "choropleth"
           }
          ],
          "contour": [
           {
            "colorbar": {
             "outlinewidth": 0,
             "ticks": ""
            },
            "colorscale": [
             [
              0,
              "#0d0887"
             ],
             [
              0.1111111111111111,
              "#46039f"
             ],
             [
              0.2222222222222222,
              "#7201a8"
             ],
             [
              0.3333333333333333,
              "#9c179e"
             ],
             [
              0.4444444444444444,
              "#bd3786"
             ],
             [
              0.5555555555555556,
              "#d8576b"
             ],
             [
              0.6666666666666666,
              "#ed7953"
             ],
             [
              0.7777777777777778,
              "#fb9f3a"
             ],
             [
              0.8888888888888888,
              "#fdca26"
             ],
             [
              1,
              "#f0f921"
             ]
            ],
            "type": "contour"
           }
          ],
          "contourcarpet": [
           {
            "colorbar": {
             "outlinewidth": 0,
             "ticks": ""
            },
            "type": "contourcarpet"
           }
          ],
          "heatmap": [
           {
            "colorbar": {
             "outlinewidth": 0,
             "ticks": ""
            },
            "colorscale": [
             [
              0,
              "#0d0887"
             ],
             [
              0.1111111111111111,
              "#46039f"
             ],
             [
              0.2222222222222222,
              "#7201a8"
             ],
             [
              0.3333333333333333,
              "#9c179e"
             ],
             [
              0.4444444444444444,
              "#bd3786"
             ],
             [
              0.5555555555555556,
              "#d8576b"
             ],
             [
              0.6666666666666666,
              "#ed7953"
             ],
             [
              0.7777777777777778,
              "#fb9f3a"
             ],
             [
              0.8888888888888888,
              "#fdca26"
             ],
             [
              1,
              "#f0f921"
             ]
            ],
            "type": "heatmap"
           }
          ],
          "histogram": [
           {
            "marker": {
             "pattern": {
              "fillmode": "overlay",
              "size": 10,
              "solidity": 0.2
             }
            },
            "type": "histogram"
           }
          ],
          "histogram2d": [
           {
            "colorbar": {
             "outlinewidth": 0,
             "ticks": ""
            },
            "colorscale": [
             [
              0,
              "#0d0887"
             ],
             [
              0.1111111111111111,
              "#46039f"
             ],
             [
              0.2222222222222222,
              "#7201a8"
             ],
             [
              0.3333333333333333,
              "#9c179e"
             ],
             [
              0.4444444444444444,
              "#bd3786"
             ],
             [
              0.5555555555555556,
              "#d8576b"
             ],
             [
              0.6666666666666666,
              "#ed7953"
             ],
             [
              0.7777777777777778,
              "#fb9f3a"
             ],
             [
              0.8888888888888888,
              "#fdca26"
             ],
             [
              1,
              "#f0f921"
             ]
            ],
            "type": "histogram2d"
           }
          ],
          "histogram2dcontour": [
           {
            "colorbar": {
             "outlinewidth": 0,
             "ticks": ""
            },
            "colorscale": [
             [
              0,
              "#0d0887"
             ],
             [
              0.1111111111111111,
              "#46039f"
             ],
             [
              0.2222222222222222,
              "#7201a8"
             ],
             [
              0.3333333333333333,
              "#9c179e"
             ],
             [
              0.4444444444444444,
              "#bd3786"
             ],
             [
              0.5555555555555556,
              "#d8576b"
             ],
             [
              0.6666666666666666,
              "#ed7953"
             ],
             [
              0.7777777777777778,
              "#fb9f3a"
             ],
             [
              0.8888888888888888,
              "#fdca26"
             ],
             [
              1,
              "#f0f921"
             ]
            ],
            "type": "histogram2dcontour"
           }
          ],
          "mesh3d": [
           {
            "colorbar": {
             "outlinewidth": 0,
             "ticks": ""
            },
            "type": "mesh3d"
           }
          ],
          "parcoords": [
           {
            "line": {
             "colorbar": {
              "outlinewidth": 0,
              "ticks": ""
             }
            },
            "type": "parcoords"
           }
          ],
          "pie": [
           {
            "automargin": true,
            "type": "pie"
           }
          ],
          "scatter": [
           {
            "fillpattern": {
             "fillmode": "overlay",
             "size": 10,
             "solidity": 0.2
            },
            "type": "scatter"
           }
          ],
          "scatter3d": [
           {
            "line": {
             "colorbar": {
              "outlinewidth": 0,
              "ticks": ""
             }
            },
            "marker": {
             "colorbar": {
              "outlinewidth": 0,
              "ticks": ""
             }
            },
            "type": "scatter3d"
           }
          ],
          "scattercarpet": [
           {
            "marker": {
             "colorbar": {
              "outlinewidth": 0,
              "ticks": ""
             }
            },
            "type": "scattercarpet"
           }
          ],
          "scattergeo": [
           {
            "marker": {
             "colorbar": {
              "outlinewidth": 0,
              "ticks": ""
             }
            },
            "type": "scattergeo"
           }
          ],
          "scattergl": [
           {
            "marker": {
             "colorbar": {
              "outlinewidth": 0,
              "ticks": ""
             }
            },
            "type": "scattergl"
           }
          ],
          "scattermap": [
           {
            "marker": {
             "colorbar": {
              "outlinewidth": 0,
              "ticks": ""
             }
            },
            "type": "scattermap"
           }
          ],
          "scattermapbox": [
           {
            "marker": {
             "colorbar": {
              "outlinewidth": 0,
              "ticks": ""
             }
            },
            "type": "scattermapbox"
           }
          ],
          "scatterpolar": [
           {
            "marker": {
             "colorbar": {
              "outlinewidth": 0,
              "ticks": ""
             }
            },
            "type": "scatterpolar"
           }
          ],
          "scatterpolargl": [
           {
            "marker": {
             "colorbar": {
              "outlinewidth": 0,
              "ticks": ""
             }
            },
            "type": "scatterpolargl"
           }
          ],
          "scatterternary": [
           {
            "marker": {
             "colorbar": {
              "outlinewidth": 0,
              "ticks": ""
             }
            },
            "type": "scatterternary"
           }
          ],
          "surface": [
           {
            "colorbar": {
             "outlinewidth": 0,
             "ticks": ""
            },
            "colorscale": [
             [
              0,
              "#0d0887"
             ],
             [
              0.1111111111111111,
              "#46039f"
             ],
             [
              0.2222222222222222,
              "#7201a8"
             ],
             [
              0.3333333333333333,
              "#9c179e"
             ],
             [
              0.4444444444444444,
              "#bd3786"
             ],
             [
              0.5555555555555556,
              "#d8576b"
             ],
             [
              0.6666666666666666,
              "#ed7953"
             ],
             [
              0.7777777777777778,
              "#fb9f3a"
             ],
             [
              0.8888888888888888,
              "#fdca26"
             ],
             [
              1,
              "#f0f921"
             ]
            ],
            "type": "surface"
           }
          ],
          "table": [
           {
            "cells": {
             "fill": {
              "color": "#EBF0F8"
             },
             "line": {
              "color": "white"
             }
            },
            "header": {
             "fill": {
              "color": "#C8D4E3"
             },
             "line": {
              "color": "white"
             }
            },
            "type": "table"
           }
          ]
         },
         "layout": {
          "annotationdefaults": {
           "arrowcolor": "#2a3f5f",
           "arrowhead": 0,
           "arrowwidth": 1
          },
          "autotypenumbers": "strict",
          "coloraxis": {
           "colorbar": {
            "outlinewidth": 0,
            "ticks": ""
           }
          },
          "colorscale": {
           "diverging": [
            [
             0,
             "#8e0152"
            ],
            [
             0.1,
             "#c51b7d"
            ],
            [
             0.2,
             "#de77ae"
            ],
            [
             0.3,
             "#f1b6da"
            ],
            [
             0.4,
             "#fde0ef"
            ],
            [
             0.5,
             "#f7f7f7"
            ],
            [
             0.6,
             "#e6f5d0"
            ],
            [
             0.7,
             "#b8e186"
            ],
            [
             0.8,
             "#7fbc41"
            ],
            [
             0.9,
             "#4d9221"
            ],
            [
             1,
             "#276419"
            ]
           ],
           "sequential": [
            [
             0,
             "#0d0887"
            ],
            [
             0.1111111111111111,
             "#46039f"
            ],
            [
             0.2222222222222222,
             "#7201a8"
            ],
            [
             0.3333333333333333,
             "#9c179e"
            ],
            [
             0.4444444444444444,
             "#bd3786"
            ],
            [
             0.5555555555555556,
             "#d8576b"
            ],
            [
             0.6666666666666666,
             "#ed7953"
            ],
            [
             0.7777777777777778,
             "#fb9f3a"
            ],
            [
             0.8888888888888888,
             "#fdca26"
            ],
            [
             1,
             "#f0f921"
            ]
           ],
           "sequentialminus": [
            [
             0,
             "#0d0887"
            ],
            [
             0.1111111111111111,
             "#46039f"
            ],
            [
             0.2222222222222222,
             "#7201a8"
            ],
            [
             0.3333333333333333,
             "#9c179e"
            ],
            [
             0.4444444444444444,
             "#bd3786"
            ],
            [
             0.5555555555555556,
             "#d8576b"
            ],
            [
             0.6666666666666666,
             "#ed7953"
            ],
            [
             0.7777777777777778,
             "#fb9f3a"
            ],
            [
             0.8888888888888888,
             "#fdca26"
            ],
            [
             1,
             "#f0f921"
            ]
           ]
          },
          "colorway": [
           "#636efa",
           "#EF553B",
           "#00cc96",
           "#ab63fa",
           "#FFA15A",
           "#19d3f3",
           "#FF6692",
           "#B6E880",
           "#FF97FF",
           "#FECB52"
          ],
          "font": {
           "color": "#2a3f5f"
          },
          "geo": {
           "bgcolor": "white",
           "lakecolor": "white",
           "landcolor": "#E5ECF6",
           "showlakes": true,
           "showland": true,
           "subunitcolor": "white"
          },
          "hoverlabel": {
           "align": "left"
          },
          "hovermode": "closest",
          "mapbox": {
           "style": "light"
          },
          "paper_bgcolor": "white",
          "plot_bgcolor": "#E5ECF6",
          "polar": {
           "angularaxis": {
            "gridcolor": "white",
            "linecolor": "white",
            "ticks": ""
           },
           "bgcolor": "#E5ECF6",
           "radialaxis": {
            "gridcolor": "white",
            "linecolor": "white",
            "ticks": ""
           }
          },
          "scene": {
           "xaxis": {
            "backgroundcolor": "#E5ECF6",
            "gridcolor": "white",
            "gridwidth": 2,
            "linecolor": "white",
            "showbackground": true,
            "ticks": "",
            "zerolinecolor": "white"
           },
           "yaxis": {
            "backgroundcolor": "#E5ECF6",
            "gridcolor": "white",
            "gridwidth": 2,
            "linecolor": "white",
            "showbackground": true,
            "ticks": "",
            "zerolinecolor": "white"
           },
           "zaxis": {
            "backgroundcolor": "#E5ECF6",
            "gridcolor": "white",
            "gridwidth": 2,
            "linecolor": "white",
            "showbackground": true,
            "ticks": "",
            "zerolinecolor": "white"
           }
          },
          "shapedefaults": {
           "line": {
            "color": "#2a3f5f"
           }
          },
          "ternary": {
           "aaxis": {
            "gridcolor": "white",
            "linecolor": "white",
            "ticks": ""
           },
           "baxis": {
            "gridcolor": "white",
            "linecolor": "white",
            "ticks": ""
           },
           "bgcolor": "#E5ECF6",
           "caxis": {
            "gridcolor": "white",
            "linecolor": "white",
            "ticks": ""
           }
          },
          "title": {
           "x": 0.05
          },
          "xaxis": {
           "automargin": true,
           "gridcolor": "white",
           "linecolor": "white",
           "ticks": "",
           "title": {
            "standoff": 15
           },
           "zerolinecolor": "white",
           "zerolinewidth": 2
          },
          "yaxis": {
           "automargin": true,
           "gridcolor": "white",
           "linecolor": "white",
           "ticks": "",
           "title": {
            "standoff": 15
           },
           "zerolinecolor": "white",
           "zerolinewidth": 2
          }
         }
        },
        "title": {
         "text": "Error in Taylor Series Approximation for e^x"
        },
        "xaxis": {
         "title": {
          "text": "Number of Terms (n)"
         }
        },
        "yaxis": {
         "title": {
          "text": "Value"
         }
        }
       }
      }
     },
     "metadata": {},
     "output_type": "display_data"
    }
   ],
   "source": [
    "plot_ex(3, range(1,100), precision=20)"
   ]
  },
  {
   "cell_type": "code",
   "execution_count": 18,
   "id": "c84cfa05",
   "metadata": {},
   "outputs": [
    {
     "data": {
      "application/vnd.plotly.v1+json": {
       "config": {
        "plotlyServerURL": "https://plot.ly"
       },
       "data": [
        {
         "line": {
          "color": "red",
          "dash": "dashdot"
         },
         "mode": "lines",
         "name": "Error",
         "type": "scatter",
         "x": [
          1,
          2,
          3,
          4,
          5,
          6,
          7,
          8,
          9,
          10,
          11,
          12,
          13,
          14,
          15,
          16,
          17,
          18,
          19,
          20,
          21,
          22,
          23,
          24,
          25,
          26,
          27,
          28,
          29,
          30,
          31,
          32,
          33,
          34,
          35,
          36,
          37,
          38,
          39,
          40,
          41,
          42,
          43,
          44,
          45,
          46,
          47,
          48,
          49,
          50,
          51,
          52,
          53,
          54,
          55,
          56,
          57,
          58,
          59,
          60,
          61,
          62,
          63,
          64,
          65,
          66,
          67,
          68,
          69,
          70,
          71,
          72,
          73,
          74,
          75,
          76,
          77,
          78,
          79,
          80,
          81,
          82,
          83,
          84,
          85,
          86,
          87,
          88,
          89,
          90,
          91,
          92,
          93,
          94,
          95,
          96,
          97,
          98,
          99
         ],
         "y": [
          0.950212931632136,
          0.20021293163213605,
          0.06785999045566547,
          0.02713600855521298,
          0.011281633922212393,
          0.004560757719092578,
          0.0017261318897020582,
          0.0005998310382904568,
          0.0001900626324595697,
          0.000054950233889428035,
          0.00001455885583985295,
          0.000003554384712832888,
          8.040267687970781e-7,
          1.6937193162004088e-7,
          3.337657157096998e-8,
          6.17758871522192e-9,
          1.0777827382096033e-9,
          1.778170860139868e-10,
          2.7822813811277602e-11,
          4.13950775663245e-12,
          5.870118503732655e-13,
          7.951243520850748e-14,
          1.0307969569193576e-14,
          1.2813001218666797e-15,
          1.5296647403804215e-16,
          1.756640453487012e-17,
          1.943358278797382e-18,
          2.074701325181002e-19,
          2.149346103657787e-20,
          2.276401045745932e-21,
          3.1763735522036263e-22,
          1.0587911840678754e-22,
          1.0587911840678754e-22,
          1.0587911840678754e-22,
          1.0587911840678754e-22,
          1.0587911840678754e-22,
          1.0587911840678754e-22,
          1.0587911840678754e-22,
          1.0587911840678754e-22,
          1.0587911840678754e-22,
          1.0587911840678754e-22,
          1.0587911840678754e-22,
          1.0587911840678754e-22,
          1.0587911840678754e-22,
          1.0587911840678754e-22,
          1.0587911840678754e-22,
          1.0587911840678754e-22,
          1.0587911840678754e-22,
          1.0587911840678754e-22,
          1.0587911840678754e-22,
          1.0587911840678754e-22,
          1.0587911840678754e-22,
          1.0587911840678754e-22,
          1.0587911840678754e-22,
          1.0587911840678754e-22,
          1.0587911840678754e-22,
          1.0587911840678754e-22,
          1.0587911840678754e-22,
          1.0587911840678754e-22,
          1.0587911840678754e-22,
          1.0587911840678754e-22,
          1.0587911840678754e-22,
          1.0587911840678754e-22,
          1.0587911840678754e-22,
          1.0587911840678754e-22,
          1.0587911840678754e-22,
          1.0587911840678754e-22,
          1.0587911840678754e-22,
          1.0587911840678754e-22,
          1.0587911840678754e-22,
          1.0587911840678754e-22,
          1.0587911840678754e-22,
          1.0587911840678754e-22,
          1.0587911840678754e-22,
          1.0587911840678754e-22,
          1.0587911840678754e-22,
          1.0587911840678754e-22,
          1.0587911840678754e-22,
          1.0587911840678754e-22,
          1.0587911840678754e-22,
          1.0587911840678754e-22,
          1.0587911840678754e-22,
          1.0587911840678754e-22,
          1.0587911840678754e-22,
          1.0587911840678754e-22,
          1.0587911840678754e-22,
          1.0587911840678754e-22,
          1.0587911840678754e-22,
          1.0587911840678754e-22,
          1.0587911840678754e-22,
          1.0587911840678754e-22,
          1.0587911840678754e-22,
          1.0587911840678754e-22,
          1.0587911840678754e-22,
          1.0587911840678754e-22,
          1.0587911840678754e-22,
          1.0587911840678754e-22,
          1.0587911840678754e-22,
          1.0587911840678754e-22
         ]
        },
        {
         "line": {
          "color": "blue",
          "dash": "dot"
         },
         "mode": "lines",
         "name": "Real value of e^x",
         "type": "scatter",
         "x": [
          1,
          2,
          3,
          4,
          5,
          6,
          7,
          8,
          9,
          10,
          11,
          12,
          13,
          14,
          15,
          16,
          17,
          18,
          19,
          20,
          21,
          22,
          23,
          24,
          25,
          26,
          27,
          28,
          29,
          30,
          31,
          32,
          33,
          34,
          35,
          36,
          37,
          38,
          39,
          40,
          41,
          42,
          43,
          44,
          45,
          46,
          47,
          48,
          49,
          50,
          51,
          52,
          53,
          54,
          55,
          56,
          57,
          58,
          59,
          60,
          61,
          62,
          63,
          64,
          65,
          66,
          67,
          68,
          69,
          70,
          71,
          72,
          73,
          74,
          75,
          76,
          77,
          78,
          79,
          80,
          81,
          82,
          83,
          84,
          85,
          86,
          87,
          88,
          89,
          90,
          91,
          92,
          93,
          94,
          95,
          96,
          97,
          98,
          99
         ],
         "y": [
          0.049787068367863944,
          0.049787068367863944,
          0.049787068367863944,
          0.049787068367863944,
          0.049787068367863944,
          0.049787068367863944,
          0.049787068367863944,
          0.049787068367863944,
          0.049787068367863944,
          0.049787068367863944,
          0.049787068367863944,
          0.049787068367863944,
          0.049787068367863944,
          0.049787068367863944,
          0.049787068367863944,
          0.049787068367863944,
          0.049787068367863944,
          0.049787068367863944,
          0.049787068367863944,
          0.049787068367863944,
          0.049787068367863944,
          0.049787068367863944,
          0.049787068367863944,
          0.049787068367863944,
          0.049787068367863944,
          0.049787068367863944,
          0.049787068367863944,
          0.049787068367863944,
          0.049787068367863944,
          0.049787068367863944,
          0.049787068367863944,
          0.049787068367863944,
          0.049787068367863944,
          0.049787068367863944,
          0.049787068367863944,
          0.049787068367863944,
          0.049787068367863944,
          0.049787068367863944,
          0.049787068367863944,
          0.049787068367863944,
          0.049787068367863944,
          0.049787068367863944,
          0.049787068367863944,
          0.049787068367863944,
          0.049787068367863944,
          0.049787068367863944,
          0.049787068367863944,
          0.049787068367863944,
          0.049787068367863944,
          0.049787068367863944,
          0.049787068367863944,
          0.049787068367863944,
          0.049787068367863944,
          0.049787068367863944,
          0.049787068367863944,
          0.049787068367863944,
          0.049787068367863944,
          0.049787068367863944,
          0.049787068367863944,
          0.049787068367863944,
          0.049787068367863944,
          0.049787068367863944,
          0.049787068367863944,
          0.049787068367863944,
          0.049787068367863944,
          0.049787068367863944,
          0.049787068367863944,
          0.049787068367863944,
          0.049787068367863944,
          0.049787068367863944,
          0.049787068367863944,
          0.049787068367863944,
          0.049787068367863944,
          0.049787068367863944,
          0.049787068367863944,
          0.049787068367863944,
          0.049787068367863944,
          0.049787068367863944,
          0.049787068367863944,
          0.049787068367863944,
          0.049787068367863944,
          0.049787068367863944,
          0.049787068367863944,
          0.049787068367863944,
          0.049787068367863944,
          0.049787068367863944,
          0.049787068367863944,
          0.049787068367863944,
          0.049787068367863944,
          0.049787068367863944,
          0.049787068367863944,
          0.049787068367863944,
          0.049787068367863944,
          0.049787068367863944,
          0.049787068367863944,
          0.049787068367863944,
          0.049787068367863944,
          0.049787068367863944,
          0.049787068367863944
         ]
        },
        {
         "line": {
          "color": "green"
         },
         "mode": "lines",
         "name": "Approximation of e^x",
         "type": "scatter",
         "x": [
          1,
          2,
          3,
          4,
          5,
          6,
          7,
          8,
          9,
          10,
          11,
          12,
          13,
          14,
          15,
          16,
          17,
          18,
          19,
          20,
          21,
          22,
          23,
          24,
          25,
          26,
          27,
          28,
          29,
          30,
          31,
          32,
          33,
          34,
          35,
          36,
          37,
          38,
          39,
          40,
          41,
          42,
          43,
          44,
          45,
          46,
          47,
          48,
          49,
          50,
          51,
          52,
          53,
          54,
          55,
          56,
          57,
          58,
          59,
          60,
          61,
          62,
          63,
          64,
          65,
          66,
          67,
          68,
          69,
          70,
          71,
          72,
          73,
          74,
          75,
          76,
          77,
          78,
          79,
          80,
          81,
          82,
          83,
          84,
          85,
          86,
          87,
          88,
          89,
          90,
          91,
          92,
          93,
          94,
          95,
          96,
          97,
          98,
          99
         ],
         "y": [
          1,
          0.25,
          0.11764705882352941,
          0.07692307692307693,
          0.061068702290076333,
          0.05434782608695652,
          0.051513200257566,
          0.0503868994061544,
          0.04997713100032351,
          0.04984201860175337,
          0.04980162722370379,
          0.04979062275257678,
          0.04978787239463274,
          0.04978723773979556,
          0.049787101744435514,
          0.049787074545452656,
          0.04978706944564668,
          0.04978706854568103,
          0.04978706839568676,
          0.04978706837200345,
          0.049787068368450954,
          0.04978706836794346,
          0.04978706836787425,
          0.04978706836786522,
          0.0497870683678641,
          0.04978706836786396,
          0.049787068367863944,
          0.049787068367863944,
          0.049787068367863944,
          0.049787068367863944,
          0.049787068367863944,
          0.049787068367863944,
          0.049787068367863944,
          0.049787068367863944,
          0.049787068367863944,
          0.049787068367863944,
          0.049787068367863944,
          0.049787068367863944,
          0.049787068367863944,
          0.049787068367863944,
          0.049787068367863944,
          0.049787068367863944,
          0.049787068367863944,
          0.049787068367863944,
          0.049787068367863944,
          0.049787068367863944,
          0.049787068367863944,
          0.049787068367863944,
          0.049787068367863944,
          0.049787068367863944,
          0.049787068367863944,
          0.049787068367863944,
          0.049787068367863944,
          0.049787068367863944,
          0.049787068367863944,
          0.049787068367863944,
          0.049787068367863944,
          0.049787068367863944,
          0.049787068367863944,
          0.049787068367863944,
          0.049787068367863944,
          0.049787068367863944,
          0.049787068367863944,
          0.049787068367863944,
          0.049787068367863944,
          0.049787068367863944,
          0.049787068367863944,
          0.049787068367863944,
          0.049787068367863944,
          0.049787068367863944,
          0.049787068367863944,
          0.049787068367863944,
          0.049787068367863944,
          0.049787068367863944,
          0.049787068367863944,
          0.049787068367863944,
          0.049787068367863944,
          0.049787068367863944,
          0.049787068367863944,
          0.049787068367863944,
          0.049787068367863944,
          0.049787068367863944,
          0.049787068367863944,
          0.049787068367863944,
          0.049787068367863944,
          0.049787068367863944,
          0.049787068367863944,
          0.049787068367863944,
          0.049787068367863944,
          0.049787068367863944,
          0.049787068367863944,
          0.049787068367863944,
          0.049787068367863944,
          0.049787068367863944,
          0.049787068367863944,
          0.049787068367863944,
          0.049787068367863944,
          0.049787068367863944,
          0.049787068367863944
         ]
        }
       ],
       "layout": {
        "autosize": true,
        "hovermode": "x unified",
        "showlegend": true,
        "template": {
         "data": {
          "bar": [
           {
            "error_x": {
             "color": "#2a3f5f"
            },
            "error_y": {
             "color": "#2a3f5f"
            },
            "marker": {
             "line": {
              "color": "#E5ECF6",
              "width": 0.5
             },
             "pattern": {
              "fillmode": "overlay",
              "size": 10,
              "solidity": 0.2
             }
            },
            "type": "bar"
           }
          ],
          "barpolar": [
           {
            "marker": {
             "line": {
              "color": "#E5ECF6",
              "width": 0.5
             },
             "pattern": {
              "fillmode": "overlay",
              "size": 10,
              "solidity": 0.2
             }
            },
            "type": "barpolar"
           }
          ],
          "carpet": [
           {
            "aaxis": {
             "endlinecolor": "#2a3f5f",
             "gridcolor": "white",
             "linecolor": "white",
             "minorgridcolor": "white",
             "startlinecolor": "#2a3f5f"
            },
            "baxis": {
             "endlinecolor": "#2a3f5f",
             "gridcolor": "white",
             "linecolor": "white",
             "minorgridcolor": "white",
             "startlinecolor": "#2a3f5f"
            },
            "type": "carpet"
           }
          ],
          "choropleth": [
           {
            "colorbar": {
             "outlinewidth": 0,
             "ticks": ""
            },
            "type": "choropleth"
           }
          ],
          "contour": [
           {
            "colorbar": {
             "outlinewidth": 0,
             "ticks": ""
            },
            "colorscale": [
             [
              0,
              "#0d0887"
             ],
             [
              0.1111111111111111,
              "#46039f"
             ],
             [
              0.2222222222222222,
              "#7201a8"
             ],
             [
              0.3333333333333333,
              "#9c179e"
             ],
             [
              0.4444444444444444,
              "#bd3786"
             ],
             [
              0.5555555555555556,
              "#d8576b"
             ],
             [
              0.6666666666666666,
              "#ed7953"
             ],
             [
              0.7777777777777778,
              "#fb9f3a"
             ],
             [
              0.8888888888888888,
              "#fdca26"
             ],
             [
              1,
              "#f0f921"
             ]
            ],
            "type": "contour"
           }
          ],
          "contourcarpet": [
           {
            "colorbar": {
             "outlinewidth": 0,
             "ticks": ""
            },
            "type": "contourcarpet"
           }
          ],
          "heatmap": [
           {
            "colorbar": {
             "outlinewidth": 0,
             "ticks": ""
            },
            "colorscale": [
             [
              0,
              "#0d0887"
             ],
             [
              0.1111111111111111,
              "#46039f"
             ],
             [
              0.2222222222222222,
              "#7201a8"
             ],
             [
              0.3333333333333333,
              "#9c179e"
             ],
             [
              0.4444444444444444,
              "#bd3786"
             ],
             [
              0.5555555555555556,
              "#d8576b"
             ],
             [
              0.6666666666666666,
              "#ed7953"
             ],
             [
              0.7777777777777778,
              "#fb9f3a"
             ],
             [
              0.8888888888888888,
              "#fdca26"
             ],
             [
              1,
              "#f0f921"
             ]
            ],
            "type": "heatmap"
           }
          ],
          "histogram": [
           {
            "marker": {
             "pattern": {
              "fillmode": "overlay",
              "size": 10,
              "solidity": 0.2
             }
            },
            "type": "histogram"
           }
          ],
          "histogram2d": [
           {
            "colorbar": {
             "outlinewidth": 0,
             "ticks": ""
            },
            "colorscale": [
             [
              0,
              "#0d0887"
             ],
             [
              0.1111111111111111,
              "#46039f"
             ],
             [
              0.2222222222222222,
              "#7201a8"
             ],
             [
              0.3333333333333333,
              "#9c179e"
             ],
             [
              0.4444444444444444,
              "#bd3786"
             ],
             [
              0.5555555555555556,
              "#d8576b"
             ],
             [
              0.6666666666666666,
              "#ed7953"
             ],
             [
              0.7777777777777778,
              "#fb9f3a"
             ],
             [
              0.8888888888888888,
              "#fdca26"
             ],
             [
              1,
              "#f0f921"
             ]
            ],
            "type": "histogram2d"
           }
          ],
          "histogram2dcontour": [
           {
            "colorbar": {
             "outlinewidth": 0,
             "ticks": ""
            },
            "colorscale": [
             [
              0,
              "#0d0887"
             ],
             [
              0.1111111111111111,
              "#46039f"
             ],
             [
              0.2222222222222222,
              "#7201a8"
             ],
             [
              0.3333333333333333,
              "#9c179e"
             ],
             [
              0.4444444444444444,
              "#bd3786"
             ],
             [
              0.5555555555555556,
              "#d8576b"
             ],
             [
              0.6666666666666666,
              "#ed7953"
             ],
             [
              0.7777777777777778,
              "#fb9f3a"
             ],
             [
              0.8888888888888888,
              "#fdca26"
             ],
             [
              1,
              "#f0f921"
             ]
            ],
            "type": "histogram2dcontour"
           }
          ],
          "mesh3d": [
           {
            "colorbar": {
             "outlinewidth": 0,
             "ticks": ""
            },
            "type": "mesh3d"
           }
          ],
          "parcoords": [
           {
            "line": {
             "colorbar": {
              "outlinewidth": 0,
              "ticks": ""
             }
            },
            "type": "parcoords"
           }
          ],
          "pie": [
           {
            "automargin": true,
            "type": "pie"
           }
          ],
          "scatter": [
           {
            "fillpattern": {
             "fillmode": "overlay",
             "size": 10,
             "solidity": 0.2
            },
            "type": "scatter"
           }
          ],
          "scatter3d": [
           {
            "line": {
             "colorbar": {
              "outlinewidth": 0,
              "ticks": ""
             }
            },
            "marker": {
             "colorbar": {
              "outlinewidth": 0,
              "ticks": ""
             }
            },
            "type": "scatter3d"
           }
          ],
          "scattercarpet": [
           {
            "marker": {
             "colorbar": {
              "outlinewidth": 0,
              "ticks": ""
             }
            },
            "type": "scattercarpet"
           }
          ],
          "scattergeo": [
           {
            "marker": {
             "colorbar": {
              "outlinewidth": 0,
              "ticks": ""
             }
            },
            "type": "scattergeo"
           }
          ],
          "scattergl": [
           {
            "marker": {
             "colorbar": {
              "outlinewidth": 0,
              "ticks": ""
             }
            },
            "type": "scattergl"
           }
          ],
          "scattermap": [
           {
            "marker": {
             "colorbar": {
              "outlinewidth": 0,
              "ticks": ""
             }
            },
            "type": "scattermap"
           }
          ],
          "scattermapbox": [
           {
            "marker": {
             "colorbar": {
              "outlinewidth": 0,
              "ticks": ""
             }
            },
            "type": "scattermapbox"
           }
          ],
          "scatterpolar": [
           {
            "marker": {
             "colorbar": {
              "outlinewidth": 0,
              "ticks": ""
             }
            },
            "type": "scatterpolar"
           }
          ],
          "scatterpolargl": [
           {
            "marker": {
             "colorbar": {
              "outlinewidth": 0,
              "ticks": ""
             }
            },
            "type": "scatterpolargl"
           }
          ],
          "scatterternary": [
           {
            "marker": {
             "colorbar": {
              "outlinewidth": 0,
              "ticks": ""
             }
            },
            "type": "scatterternary"
           }
          ],
          "surface": [
           {
            "colorbar": {
             "outlinewidth": 0,
             "ticks": ""
            },
            "colorscale": [
             [
              0,
              "#0d0887"
             ],
             [
              0.1111111111111111,
              "#46039f"
             ],
             [
              0.2222222222222222,
              "#7201a8"
             ],
             [
              0.3333333333333333,
              "#9c179e"
             ],
             [
              0.4444444444444444,
              "#bd3786"
             ],
             [
              0.5555555555555556,
              "#d8576b"
             ],
             [
              0.6666666666666666,
              "#ed7953"
             ],
             [
              0.7777777777777778,
              "#fb9f3a"
             ],
             [
              0.8888888888888888,
              "#fdca26"
             ],
             [
              1,
              "#f0f921"
             ]
            ],
            "type": "surface"
           }
          ],
          "table": [
           {
            "cells": {
             "fill": {
              "color": "#EBF0F8"
             },
             "line": {
              "color": "white"
             }
            },
            "header": {
             "fill": {
              "color": "#C8D4E3"
             },
             "line": {
              "color": "white"
             }
            },
            "type": "table"
           }
          ]
         },
         "layout": {
          "annotationdefaults": {
           "arrowcolor": "#2a3f5f",
           "arrowhead": 0,
           "arrowwidth": 1
          },
          "autotypenumbers": "strict",
          "coloraxis": {
           "colorbar": {
            "outlinewidth": 0,
            "ticks": ""
           }
          },
          "colorscale": {
           "diverging": [
            [
             0,
             "#8e0152"
            ],
            [
             0.1,
             "#c51b7d"
            ],
            [
             0.2,
             "#de77ae"
            ],
            [
             0.3,
             "#f1b6da"
            ],
            [
             0.4,
             "#fde0ef"
            ],
            [
             0.5,
             "#f7f7f7"
            ],
            [
             0.6,
             "#e6f5d0"
            ],
            [
             0.7,
             "#b8e186"
            ],
            [
             0.8,
             "#7fbc41"
            ],
            [
             0.9,
             "#4d9221"
            ],
            [
             1,
             "#276419"
            ]
           ],
           "sequential": [
            [
             0,
             "#0d0887"
            ],
            [
             0.1111111111111111,
             "#46039f"
            ],
            [
             0.2222222222222222,
             "#7201a8"
            ],
            [
             0.3333333333333333,
             "#9c179e"
            ],
            [
             0.4444444444444444,
             "#bd3786"
            ],
            [
             0.5555555555555556,
             "#d8576b"
            ],
            [
             0.6666666666666666,
             "#ed7953"
            ],
            [
             0.7777777777777778,
             "#fb9f3a"
            ],
            [
             0.8888888888888888,
             "#fdca26"
            ],
            [
             1,
             "#f0f921"
            ]
           ],
           "sequentialminus": [
            [
             0,
             "#0d0887"
            ],
            [
             0.1111111111111111,
             "#46039f"
            ],
            [
             0.2222222222222222,
             "#7201a8"
            ],
            [
             0.3333333333333333,
             "#9c179e"
            ],
            [
             0.4444444444444444,
             "#bd3786"
            ],
            [
             0.5555555555555556,
             "#d8576b"
            ],
            [
             0.6666666666666666,
             "#ed7953"
            ],
            [
             0.7777777777777778,
             "#fb9f3a"
            ],
            [
             0.8888888888888888,
             "#fdca26"
            ],
            [
             1,
             "#f0f921"
            ]
           ]
          },
          "colorway": [
           "#636efa",
           "#EF553B",
           "#00cc96",
           "#ab63fa",
           "#FFA15A",
           "#19d3f3",
           "#FF6692",
           "#B6E880",
           "#FF97FF",
           "#FECB52"
          ],
          "font": {
           "color": "#2a3f5f"
          },
          "geo": {
           "bgcolor": "white",
           "lakecolor": "white",
           "landcolor": "#E5ECF6",
           "showlakes": true,
           "showland": true,
           "subunitcolor": "white"
          },
          "hoverlabel": {
           "align": "left"
          },
          "hovermode": "closest",
          "mapbox": {
           "style": "light"
          },
          "paper_bgcolor": "white",
          "plot_bgcolor": "#E5ECF6",
          "polar": {
           "angularaxis": {
            "gridcolor": "white",
            "linecolor": "white",
            "ticks": ""
           },
           "bgcolor": "#E5ECF6",
           "radialaxis": {
            "gridcolor": "white",
            "linecolor": "white",
            "ticks": ""
           }
          },
          "scene": {
           "xaxis": {
            "backgroundcolor": "#E5ECF6",
            "gridcolor": "white",
            "gridwidth": 2,
            "linecolor": "white",
            "showbackground": true,
            "ticks": "",
            "zerolinecolor": "white"
           },
           "yaxis": {
            "backgroundcolor": "#E5ECF6",
            "gridcolor": "white",
            "gridwidth": 2,
            "linecolor": "white",
            "showbackground": true,
            "ticks": "",
            "zerolinecolor": "white"
           },
           "zaxis": {
            "backgroundcolor": "#E5ECF6",
            "gridcolor": "white",
            "gridwidth": 2,
            "linecolor": "white",
            "showbackground": true,
            "ticks": "",
            "zerolinecolor": "white"
           }
          },
          "shapedefaults": {
           "line": {
            "color": "#2a3f5f"
           }
          },
          "ternary": {
           "aaxis": {
            "gridcolor": "white",
            "linecolor": "white",
            "ticks": ""
           },
           "baxis": {
            "gridcolor": "white",
            "linecolor": "white",
            "ticks": ""
           },
           "bgcolor": "#E5ECF6",
           "caxis": {
            "gridcolor": "white",
            "linecolor": "white",
            "ticks": ""
           }
          },
          "title": {
           "x": 0.05
          },
          "xaxis": {
           "automargin": true,
           "gridcolor": "white",
           "linecolor": "white",
           "ticks": "",
           "title": {
            "standoff": 15
           },
           "zerolinecolor": "white",
           "zerolinewidth": 2
          },
          "yaxis": {
           "automargin": true,
           "gridcolor": "white",
           "linecolor": "white",
           "ticks": "",
           "title": {
            "standoff": 15
           },
           "zerolinecolor": "white",
           "zerolinewidth": 2
          }
         }
        },
        "title": {
         "text": "Error in Taylor Series Approximation for e^x"
        },
        "xaxis": {
         "title": {
          "text": "Number of Terms (n)"
         }
        },
        "yaxis": {
         "title": {
          "text": "Value"
         }
        }
       }
      }
     },
     "metadata": {},
     "output_type": "display_data"
    }
   ],
   "source": [
    "plot_ex(-3, range(1,100), precision=20)"
   ]
  },
  {
   "cell_type": "markdown",
   "id": "e99f85f9",
   "metadata": {},
   "source": [
    "# Tests"
   ]
  },
  {
   "cell_type": "markdown",
   "id": "19f25bf0",
   "metadata": {},
   "source": [
    "## Test A"
   ]
  },
  {
   "cell_type": "markdown",
   "id": "8799c506",
   "metadata": {},
   "source": [
    "### Very small x"
   ]
  },
  {
   "cell_type": "code",
   "execution_count": 19,
   "id": "83d9d5ea",
   "metadata": {},
   "outputs": [
    {
     "data": {
      "application/vnd.plotly.v1+json": {
       "config": {
        "plotlyServerURL": "https://plot.ly"
       },
       "data": [
        {
         "line": {
          "color": "red",
          "dash": "dashdot"
         },
         "mode": "lines",
         "name": "Error",
         "type": "scatter",
         "x": [
          1,
          2,
          3,
          4,
          5,
          6,
          7,
          8,
          9,
          10,
          11,
          12,
          13,
          14,
          15,
          16,
          17,
          18,
          19,
          20,
          21,
          22,
          23,
          24,
          25,
          26,
          27,
          28,
          29,
          30,
          31,
          32,
          33,
          34,
          35,
          36,
          37,
          38,
          39,
          40,
          41,
          42,
          43,
          44,
          45,
          46,
          47,
          48,
          49,
          50,
          51,
          52,
          53,
          54,
          55,
          56,
          57,
          58,
          59,
          60,
          61,
          62,
          63,
          64,
          65,
          66,
          67,
          68,
          69,
          70,
          71,
          72,
          73,
          74,
          75,
          76,
          77,
          78,
          79,
          80,
          81,
          82,
          83,
          84,
          85,
          86,
          87,
          88,
          89,
          90,
          91,
          92,
          93,
          94,
          95,
          96,
          97,
          98,
          99,
          100,
          101,
          102,
          103,
          104,
          105,
          106,
          107,
          108,
          109,
          110,
          111,
          112,
          113,
          114,
          115,
          116,
          117,
          118,
          119,
          120,
          121,
          122,
          123,
          124,
          125,
          126,
          127,
          128,
          129,
          130,
          131,
          132,
          133,
          134,
          135,
          136,
          137,
          138,
          139,
          140,
          141,
          142,
          143,
          144,
          145,
          146,
          147,
          148,
          149,
          150,
          151,
          152,
          153,
          154,
          155,
          156,
          157,
          158,
          159,
          160,
          161,
          162,
          163,
          164,
          165,
          166,
          167,
          168,
          169,
          170,
          171,
          172,
          173,
          174,
          175,
          176,
          177,
          178,
          179,
          180,
          181,
          182,
          183,
          184,
          185,
          186,
          187,
          188,
          189,
          190,
          191,
          192,
          193,
          194,
          195,
          196,
          197,
          198,
          199,
          200,
          201,
          202,
          203,
          204,
          205,
          206,
          207,
          208,
          209,
          210,
          211,
          212,
          213,
          214,
          215,
          216,
          217,
          218,
          219,
          220,
          221,
          222,
          223,
          224,
          225,
          226,
          227,
          228,
          229,
          230,
          231,
          232,
          233,
          234,
          235,
          236,
          237,
          238,
          239,
          240,
          241,
          242,
          243,
          244,
          245,
          246,
          247,
          248,
          249
         ],
         "y": [
          1.9355760420357226e+54,
          1.9355760420357226e+54,
          1.9355760420357226e+54,
          1.9355760420357226e+54,
          1.9355760420357226e+54,
          1.9355760420357226e+54,
          1.9355760420357226e+54,
          1.9355760420357226e+54,
          1.9355760420357226e+54,
          1.9355760420357226e+54,
          1.9355760420357226e+54,
          1.9355760420357226e+54,
          1.9355760420357226e+54,
          1.9355760420357226e+54,
          1.9355760420357226e+54,
          1.9355760420357226e+54,
          1.9355760420357226e+54,
          1.9355760420357226e+54,
          1.9355760420357226e+54,
          1.9355760420357226e+54,
          1.9355760420357226e+54,
          1.9355760420357226e+54,
          1.9355760420357226e+54,
          1.9355760420357226e+54,
          1.9355760420357226e+54,
          1.9355760420357226e+54,
          1.9355760420357226e+54,
          1.9355760420357226e+54,
          1.9355760420357226e+54,
          1.9355760420357226e+54,
          1.9355760420357226e+54,
          1.9355760420357226e+54,
          1.9355760420357226e+54,
          1.9355760420357226e+54,
          1.9355760420357226e+54,
          1.9355760420357226e+54,
          1.9355760420357226e+54,
          1.9355760420357226e+54,
          1.9355760420357226e+54,
          1.9355760420357226e+54,
          1.9355760420357226e+54,
          1.9355760420357226e+54,
          1.9355760420357226e+54,
          1.9355760420357226e+54,
          1.9355760420357226e+54,
          1.9355760420357222e+54,
          1.935576042035722e+54,
          1.9355760420357202e+54,
          1.9355760420357168e+54,
          1.9355760420357076e+54,
          1.9355760420356845e+54,
          1.935576042035628e+54,
          1.9355760420354922e+54,
          1.9355760420351724e+54,
          1.9355760420344312e+54,
          1.935576042032747e+54,
          1.935576042028988e+54,
          1.935576042020744e+54,
          1.9355760420029772e+54,
          1.935576041965336e+54,
          1.935576041886916e+54,
          1.9355760417262194e+54,
          1.935576041402235e+54,
          1.935576040759408e+54,
          1.9355760395038874e+54,
          1.935576037089424e+54,
          1.9355760325165772e+54,
          1.9355760239851463e+54,
          1.9355760083023688e+54,
          1.93557597989154e+54,
          1.9355759291579173e+54,
          1.935575839838159e+54,
          1.9355756847691342e+54,
          1.9355754192399823e+54,
          1.935574970711009e+54,
          1.9355742231627205e+54,
          1.935572993642509e+54,
          1.93557099766814e+54,
          1.9355677989912663e+54,
          1.9355627377936816e+54,
          1.9355548296724552e+54,
          1.9355426257816738e+54,
          1.935524022289629e+54,
          1.9354960049823323e+54,
          1.9354543125607602e+54,
          1.9353930001760955e+54,
          1.9353038833379197e+54,
          1.9351758419037593e+54,
          1.9349939648665995e+54,
          1.9347385195896898e+54,
          1.9343837344828705e+54,
          1.9338963923031742e+54,
          1.9332342426024993e+54,
          1.9323442564456786e+54,
          1.9311607642158636e+54,
          1.929603537597686e+54,
          1.927575898771934e+54,
          1.92496296214081e+54,
          1.921630134805193e+54,
          1.917422019482444e+54,
          1.9121618753290082e+54,
          1.9056517959311913e+54,
          1.8976737574534746e+54,
          1.887991671922265e+54,
          1.8763545498895612e+54,
          1.8625008331839615e+54,
          1.846163903106603e+54,
          1.8270787044181002e+54,
          1.804989354084185e+54,
          1.7796575303067594e+54,
          1.7508713669233214e+54,
          1.7184545162662962e+54,
          1.6822749954437238e+54,
          1.6422534016134444e+54,
          1.5983700750451555e+54,
          1.5506708070361457e+54,
          1.4992707337505752e+54,
          1.4443561255394954e+54,
          1.3861838710786058e+54,
          1.3250785617709488e+54,
          1.261427197908806e+54,
          1.1956716567289062e+54,
          1.128299176011796e+54,
          1.0598312078033505e+54,
          9.908110785609661e+53,
          9.217909493185816e+53,
          8.53318598879708e+53,
          7.859245531721554e+53,
          7.201100554108736e+53,
          6.563363172700965e+53,
          5.950154152116571e+53,
          5.365031040871919e+53,
          4.810937185526605e+53,
          4.290172283886273e+53,
          3.8043841293710378e+53,
          3.3545802825976714e+53,
          2.941157629313328e+53,
          2.5639471792363717e+53,
          2.2222710469202883e+53,
          1.915008338002947e+53,
          1.6406666336124638e+53,
          1.3974559027698368e+53,
          1.183361949563299e+53,
          9.962168855715702e+52,
          8.3376457307875e+52,
          6.937194761021808e+52,
          5.738178519784058e+52,
          4.718606886078489e+52,
          3.857482195448785e+52,
          3.1350621529742014e+52,
          2.5330454509120484e+52,
          2.0346872538407298e+52,
          1.624853210196553e+52,
          1.2900214751931407e+52,
          1.0182424695085529e+52,
          7.99065852020982e+51,
          6.234435623674797e+51,
          4.836168986306148e+51,
          3.729945380792976e+51,
          2.8602727349492882e+51,
          2.1808409803839067e+51,
          1.6533318541685485e+51,
          1.2463032073974385e+51,
          9.341646745975077e+50,
          6.962542075243896e+50,
          5.160190051962699e+50,
          3.80299726334734e+50,
          2.7871343976172803e+50,
          2.0312840510919384e+50,
          1.4722231438986383e+50,
          1.0611489474329763e+50,
          7.606561137592469e+49,
          5.422746939382226e+49,
          3.8448465071493917e+49,
          2.7112973460625853e+49,
          1.9016193738577237e+49,
          1.3265639958713163e+49,
          9.204514407961698e+48,
          6.352600397602523e+48,
          4.3610403345025404e+48,
          2.97801251290533e+48,
          2.0228828018575333e+48,
          1.3668871211928373e+48,
          9.188026398644938e+47,
          6.143974215707808e+47,
          4.087182200209743e+47,
          2.7049295016223364e+47,
          1.7809637940104362e+47,
          1.166624892672727e+47,
          7.603160954917e+46,
          4.930076762936709e+46,
          3.180676113734762e+46,
          2.0417433994106713e+46,
          1.3040926776981502e+46,
          8.288022642235101e+45,
          5.2412892225276004e+45,
          3.298219439550295e+45,
          2.065307140707315e+45,
          1.2869534166901377e+45,
          7.980377609004926e+44,
          4.924654760309909e+44,
          3.0243296056665243e+44,
          1.848385821833527e+44,
          1.1242825066718198e+44,
          6.805917498297386e+43,
          4.100486054030709e+43,
          2.4588407601745293e+43,
          1.467509061135262e+43,
          8.71756837985185e+42,
          5.154456998257258e+42,
          3.0335573664175283e+42,
          1.777100239276327e+42,
          1.0362646683054642e+42,
          6.015020086146378e+41,
          3.4755185771462072e+41,
          1.9990641981658138e+41,
          1.144634599209885e+41,
          6.524516396154788e+40,
          3.70236649613373e+40,
          2.0915503763464393e+40,
          1.1763138148416935e+40,
          6.586462314981009e+39,
          3.6716678198021717e+39,
          2.037812959623876e+39,
          1.1260638043041651e+39,
          6.195370727150878e+38,
          3.393789072675534e+38,
          1.851053830067666e+38,
          1.0052546332966353e+38,
          5.435815581200111e+37,
          2.9266381243131556e+37,
          1.5688524958062982e+37,
          8.37257868438741e+36,
          4.44720225933508e+36,
          2.3495143284870095e+36,
          1.2331705039020216e+36,
          6.412486620290512e+35,
          3.2971085051696155e+35,
          1.661534994731145e+35,
          8.048060130728983e+34,
          3.6346078009743793e+34,
          1.298074214633707e+34,
          0,
          0,
          0,
          0,
          0,
          0,
          0
         ]
        },
        {
         "line": {
          "color": "blue",
          "dash": "dot"
         },
         "mode": "lines",
         "name": "Real value of e^x",
         "type": "scatter",
         "x": [
          1,
          2,
          3,
          4,
          5,
          6,
          7,
          8,
          9,
          10,
          11,
          12,
          13,
          14,
          15,
          16,
          17,
          18,
          19,
          20,
          21,
          22,
          23,
          24,
          25,
          26,
          27,
          28,
          29,
          30,
          31,
          32,
          33,
          34,
          35,
          36,
          37,
          38,
          39,
          40,
          41,
          42,
          43,
          44,
          45,
          46,
          47,
          48,
          49,
          50,
          51,
          52,
          53,
          54,
          55,
          56,
          57,
          58,
          59,
          60,
          61,
          62,
          63,
          64,
          65,
          66,
          67,
          68,
          69,
          70,
          71,
          72,
          73,
          74,
          75,
          76,
          77,
          78,
          79,
          80,
          81,
          82,
          83,
          84,
          85,
          86,
          87,
          88,
          89,
          90,
          91,
          92,
          93,
          94,
          95,
          96,
          97,
          98,
          99,
          100,
          101,
          102,
          103,
          104,
          105,
          106,
          107,
          108,
          109,
          110,
          111,
          112,
          113,
          114,
          115,
          116,
          117,
          118,
          119,
          120,
          121,
          122,
          123,
          124,
          125,
          126,
          127,
          128,
          129,
          130,
          131,
          132,
          133,
          134,
          135,
          136,
          137,
          138,
          139,
          140,
          141,
          142,
          143,
          144,
          145,
          146,
          147,
          148,
          149,
          150,
          151,
          152,
          153,
          154,
          155,
          156,
          157,
          158,
          159,
          160,
          161,
          162,
          163,
          164,
          165,
          166,
          167,
          168,
          169,
          170,
          171,
          172,
          173,
          174,
          175,
          176,
          177,
          178,
          179,
          180,
          181,
          182,
          183,
          184,
          185,
          186,
          187,
          188,
          189,
          190,
          191,
          192,
          193,
          194,
          195,
          196,
          197,
          198,
          199,
          200,
          201,
          202,
          203,
          204,
          205,
          206,
          207,
          208,
          209,
          210,
          211,
          212,
          213,
          214,
          215,
          216,
          217,
          218,
          219,
          220,
          221,
          222,
          223,
          224,
          225,
          226,
          227,
          228,
          229,
          230,
          231,
          232,
          233,
          234,
          235,
          236,
          237,
          238,
          239,
          240,
          241,
          242,
          243,
          244,
          245,
          246,
          247,
          248,
          249
         ],
         "y": [
          1.9355760420357226e+54,
          1.9355760420357226e+54,
          1.9355760420357226e+54,
          1.9355760420357226e+54,
          1.9355760420357226e+54,
          1.9355760420357226e+54,
          1.9355760420357226e+54,
          1.9355760420357226e+54,
          1.9355760420357226e+54,
          1.9355760420357226e+54,
          1.9355760420357226e+54,
          1.9355760420357226e+54,
          1.9355760420357226e+54,
          1.9355760420357226e+54,
          1.9355760420357226e+54,
          1.9355760420357226e+54,
          1.9355760420357226e+54,
          1.9355760420357226e+54,
          1.9355760420357226e+54,
          1.9355760420357226e+54,
          1.9355760420357226e+54,
          1.9355760420357226e+54,
          1.9355760420357226e+54,
          1.9355760420357226e+54,
          1.9355760420357226e+54,
          1.9355760420357226e+54,
          1.9355760420357226e+54,
          1.9355760420357226e+54,
          1.9355760420357226e+54,
          1.9355760420357226e+54,
          1.9355760420357226e+54,
          1.9355760420357226e+54,
          1.9355760420357226e+54,
          1.9355760420357226e+54,
          1.9355760420357226e+54,
          1.9355760420357226e+54,
          1.9355760420357226e+54,
          1.9355760420357226e+54,
          1.9355760420357226e+54,
          1.9355760420357226e+54,
          1.9355760420357226e+54,
          1.9355760420357226e+54,
          1.9355760420357226e+54,
          1.9355760420357226e+54,
          1.9355760420357226e+54,
          1.9355760420357226e+54,
          1.9355760420357226e+54,
          1.9355760420357226e+54,
          1.9355760420357226e+54,
          1.9355760420357226e+54,
          1.9355760420357226e+54,
          1.9355760420357226e+54,
          1.9355760420357226e+54,
          1.9355760420357226e+54,
          1.9355760420357226e+54,
          1.9355760420357226e+54,
          1.9355760420357226e+54,
          1.9355760420357226e+54,
          1.9355760420357226e+54,
          1.9355760420357226e+54,
          1.9355760420357226e+54,
          1.9355760420357226e+54,
          1.9355760420357226e+54,
          1.9355760420357226e+54,
          1.9355760420357226e+54,
          1.9355760420357226e+54,
          1.9355760420357226e+54,
          1.9355760420357226e+54,
          1.9355760420357226e+54,
          1.9355760420357226e+54,
          1.9355760420357226e+54,
          1.9355760420357226e+54,
          1.9355760420357226e+54,
          1.9355760420357226e+54,
          1.9355760420357226e+54,
          1.9355760420357226e+54,
          1.9355760420357226e+54,
          1.9355760420357226e+54,
          1.9355760420357226e+54,
          1.9355760420357226e+54,
          1.9355760420357226e+54,
          1.9355760420357226e+54,
          1.9355760420357226e+54,
          1.9355760420357226e+54,
          1.9355760420357226e+54,
          1.9355760420357226e+54,
          1.9355760420357226e+54,
          1.9355760420357226e+54,
          1.9355760420357226e+54,
          1.9355760420357226e+54,
          1.9355760420357226e+54,
          1.9355760420357226e+54,
          1.9355760420357226e+54,
          1.9355760420357226e+54,
          1.9355760420357226e+54,
          1.9355760420357226e+54,
          1.9355760420357226e+54,
          1.9355760420357226e+54,
          1.9355760420357226e+54,
          1.9355760420357226e+54,
          1.9355760420357226e+54,
          1.9355760420357226e+54,
          1.9355760420357226e+54,
          1.9355760420357226e+54,
          1.9355760420357226e+54,
          1.9355760420357226e+54,
          1.9355760420357226e+54,
          1.9355760420357226e+54,
          1.9355760420357226e+54,
          1.9355760420357226e+54,
          1.9355760420357226e+54,
          1.9355760420357226e+54,
          1.9355760420357226e+54,
          1.9355760420357226e+54,
          1.9355760420357226e+54,
          1.9355760420357226e+54,
          1.9355760420357226e+54,
          1.9355760420357226e+54,
          1.9355760420357226e+54,
          1.9355760420357226e+54,
          1.9355760420357226e+54,
          1.9355760420357226e+54,
          1.9355760420357226e+54,
          1.9355760420357226e+54,
          1.9355760420357226e+54,
          1.9355760420357226e+54,
          1.9355760420357226e+54,
          1.9355760420357226e+54,
          1.9355760420357226e+54,
          1.9355760420357226e+54,
          1.9355760420357226e+54,
          1.9355760420357226e+54,
          1.9355760420357226e+54,
          1.9355760420357226e+54,
          1.9355760420357226e+54,
          1.9355760420357226e+54,
          1.9355760420357226e+54,
          1.9355760420357226e+54,
          1.9355760420357226e+54,
          1.9355760420357226e+54,
          1.9355760420357226e+54,
          1.9355760420357226e+54,
          1.9355760420357226e+54,
          1.9355760420357226e+54,
          1.9355760420357226e+54,
          1.9355760420357226e+54,
          1.9355760420357226e+54,
          1.9355760420357226e+54,
          1.9355760420357226e+54,
          1.9355760420357226e+54,
          1.9355760420357226e+54,
          1.9355760420357226e+54,
          1.9355760420357226e+54,
          1.9355760420357226e+54,
          1.9355760420357226e+54,
          1.9355760420357226e+54,
          1.9355760420357226e+54,
          1.9355760420357226e+54,
          1.9355760420357226e+54,
          1.9355760420357226e+54,
          1.9355760420357226e+54,
          1.9355760420357226e+54,
          1.9355760420357226e+54,
          1.9355760420357226e+54,
          1.9355760420357226e+54,
          1.9355760420357226e+54,
          1.9355760420357226e+54,
          1.9355760420357226e+54,
          1.9355760420357226e+54,
          1.9355760420357226e+54,
          1.9355760420357226e+54,
          1.9355760420357226e+54,
          1.9355760420357226e+54,
          1.9355760420357226e+54,
          1.9355760420357226e+54,
          1.9355760420357226e+54,
          1.9355760420357226e+54,
          1.9355760420357226e+54,
          1.9355760420357226e+54,
          1.9355760420357226e+54,
          1.9355760420357226e+54,
          1.9355760420357226e+54,
          1.9355760420357226e+54,
          1.9355760420357226e+54,
          1.9355760420357226e+54,
          1.9355760420357226e+54,
          1.9355760420357226e+54,
          1.9355760420357226e+54,
          1.9355760420357226e+54,
          1.9355760420357226e+54,
          1.9355760420357226e+54,
          1.9355760420357226e+54,
          1.9355760420357226e+54,
          1.9355760420357226e+54,
          1.9355760420357226e+54,
          1.9355760420357226e+54,
          1.9355760420357226e+54,
          1.9355760420357226e+54,
          1.9355760420357226e+54,
          1.9355760420357226e+54,
          1.9355760420357226e+54,
          1.9355760420357226e+54,
          1.9355760420357226e+54,
          1.9355760420357226e+54,
          1.9355760420357226e+54,
          1.9355760420357226e+54,
          1.9355760420357226e+54,
          1.9355760420357226e+54,
          1.9355760420357226e+54,
          1.9355760420357226e+54,
          1.9355760420357226e+54,
          1.9355760420357226e+54,
          1.9355760420357226e+54,
          1.9355760420357226e+54,
          1.9355760420357226e+54,
          1.9355760420357226e+54,
          1.9355760420357226e+54,
          1.9355760420357226e+54,
          1.9355760420357226e+54,
          1.9355760420357226e+54,
          1.9355760420357226e+54,
          1.9355760420357226e+54,
          1.9355760420357226e+54,
          1.9355760420357226e+54,
          1.9355760420357226e+54,
          1.9355760420357226e+54,
          1.9355760420357226e+54,
          1.9355760420357226e+54,
          1.9355760420357226e+54,
          1.9355760420357226e+54,
          1.9355760420357226e+54,
          1.9355760420357226e+54,
          1.9355760420357226e+54,
          1.9355760420357226e+54,
          1.9355760420357226e+54,
          1.9355760420357226e+54,
          1.9355760420357226e+54,
          1.9355760420357226e+54,
          1.9355760420357226e+54,
          1.9355760420357226e+54,
          1.9355760420357226e+54,
          1.9355760420357226e+54,
          1.9355760420357226e+54,
          1.9355760420357226e+54,
          1.9355760420357226e+54,
          1.9355760420357226e+54,
          1.9355760420357226e+54,
          1.9355760420357226e+54,
          1.9355760420357226e+54
         ]
        },
        {
         "line": {
          "color": "green"
         },
         "mode": "lines",
         "name": "Approximation of e^x",
         "type": "scatter",
         "x": [
          1,
          2,
          3,
          4,
          5,
          6,
          7,
          8,
          9,
          10,
          11,
          12,
          13,
          14,
          15,
          16,
          17,
          18,
          19,
          20,
          21,
          22,
          23,
          24,
          25,
          26,
          27,
          28,
          29,
          30,
          31,
          32,
          33,
          34,
          35,
          36,
          37,
          38,
          39,
          40,
          41,
          42,
          43,
          44,
          45,
          46,
          47,
          48,
          49,
          50,
          51,
          52,
          53,
          54,
          55,
          56,
          57,
          58,
          59,
          60,
          61,
          62,
          63,
          64,
          65,
          66,
          67,
          68,
          69,
          70,
          71,
          72,
          73,
          74,
          75,
          76,
          77,
          78,
          79,
          80,
          81,
          82,
          83,
          84,
          85,
          86,
          87,
          88,
          89,
          90,
          91,
          92,
          93,
          94,
          95,
          96,
          97,
          98,
          99,
          100,
          101,
          102,
          103,
          104,
          105,
          106,
          107,
          108,
          109,
          110,
          111,
          112,
          113,
          114,
          115,
          116,
          117,
          118,
          119,
          120,
          121,
          122,
          123,
          124,
          125,
          126,
          127,
          128,
          129,
          130,
          131,
          132,
          133,
          134,
          135,
          136,
          137,
          138,
          139,
          140,
          141,
          142,
          143,
          144,
          145,
          146,
          147,
          148,
          149,
          150,
          151,
          152,
          153,
          154,
          155,
          156,
          157,
          158,
          159,
          160,
          161,
          162,
          163,
          164,
          165,
          166,
          167,
          168,
          169,
          170,
          171,
          172,
          173,
          174,
          175,
          176,
          177,
          178,
          179,
          180,
          181,
          182,
          183,
          184,
          185,
          186,
          187,
          188,
          189,
          190,
          191,
          192,
          193,
          194,
          195,
          196,
          197,
          198,
          199,
          200,
          201,
          202,
          203,
          204,
          205,
          206,
          207,
          208,
          209,
          210,
          211,
          212,
          213,
          214,
          215,
          216,
          217,
          218,
          219,
          220,
          221,
          222,
          223,
          224,
          225,
          226,
          227,
          228,
          229,
          230,
          231,
          232,
          233,
          234,
          235,
          236,
          237,
          238,
          239,
          240,
          241,
          242,
          243,
          244,
          245,
          246,
          247,
          248,
          249
         ],
         "y": [
          1,
          126,
          7938.5,
          333459.3333333333,
          10505985.375,
          264819136.41666666,
          5563009783.118055,
          100173557045.64285,
          1578463358022.5928,
          22110266149369.12,
          278757801041200.72,
          3195207061175650.5,
          33574886854242840,
          325687192556811970,
          2933832779186893300,
          24668379334437573000,
          194469524297333500000,
          1.4430073549068624e+21,
          1.0113408956361924e+22,
          6.715552475540838e+22,
          4.2366874849944874e+23,
          2.545771270785403e+24,
          1.4603171965591962e+25,
          8.013252356780153e+25,
          4.214312298293097e+26,
          2.1279247611368503e+27,
          1.0332220584730797e+28,
          4.8315071619887954e+28,
          2.178813708839824e+29,
          9.487705918499067e+29,
          3.9941423458745913e+30,
          1.6273867160490256e+31,
          6.424154221758269e+31,
          2.4593728107020557e+32,
          9.139363209695544e+32,
          3.299647177752943e+33,
          1.1583365430473042e+34,
          3.9568900068040943e+34,
          1.3162657979688273e+35,
          4.266832455944526e+35,
          1.3487353262118583e+36,
          4.159869718338095e+36,
          1.2526341123475705e+37,
          3.6847478929108293e+37,
          1.0594162042238269e+38,
          2.9786979123703376e+38,
          8.194137336681509e+38,
          2.2064986869423986e+39,
          5.818699086094086e+39,
          1.503349602270553e+40,
          3.8070488364234144e+40,
          9.453370488758859e+40,
          2.302625907610368e+41,
          5.5037788763237684e+41,
          1.2913855192789973e+42,
          2.9754937730213165e+42,
          6.734663982267565e+42,
          1.4978458300790039e+43,
          3.2745256401053995e+43,
          7.03867777999183e+43,
          1.4880661404755229e+44,
          3.0950299980090057e+44,
          6.334876484971673e+44,
          1.2763143324183315e+45,
          2.5318351994518552e+45,
          4.946298405285555e+45,
          9.519145386031198e+45,
          1.8050576320258144e+46,
          3.373335377288121e+46,
          6.214418249140125e+46,
          1.1287780520304417e+47,
          2.021975634981902e+47,
          3.57266588316152e+47,
          6.227957404017031e+47,
          1.071324713519188e+48,
          1.8188730020483294e+48,
          3.0483932134449436e+48,
          5.0443675825952914e+48,
          8.24304445623367e+48,
          1.330424204110452e+49,
          2.1212363267465227e+49,
          3.341625404888607e+49,
          5.201974609373491e+49,
          8.003705339019401e+49,
          1.2172947496230576e+50,
          1.83041859627176e+50,
          2.7215869780285948e+50,
          4.002001319633243e+50,
          5.820771691230753e+50,
          8.375224460328382e+50,
          1.192307552851953e+51,
          1.6796497325485395e+51,
          2.3417994332232495e+51,
          3.231785590044096e+51,
          4.415277819859052e+51,
          5.972504438036625e+51,
          8.000143263788673e+51,
          1.0613079894912447e+52,
          1.3945907230529504e+52,
          1.8154022553278318e+52,
          2.341416670671433e+52,
          2.992424610453118e+52,
          3.7902284582247907e+52,
          4.7584370113457525e+52,
          5.92214921461614e+52,
          7.307520885176123e+52,
          8.941213892911955e+52,
          1.0849733761762223e+53,
          1.305866879515374e+53,
          1.5591851172896304e+53,
          1.8470467511240127e+53,
          2.171215257694263e+53,
          2.5330104659199886e+53,
          2.9332264042227826e+53,
          3.3720596699056707e+53,
          3.849052349995767e+53,
          4.3630530828514735e+53,
          4.912199164962271e+53,
          5.493921709571167e+53,
          6.104974802647738e+53,
          6.741488441269167e+53,
          7.399043853068163e+53,
          8.072768660239266e+53,
          8.75744834232372e+53,
          9.447649634747564e+53,
          1.013785092717141e+54,
          1.0822574431560145e+54,
          1.1496514888635672e+54,
          1.2154659866248491e+54,
          1.2792397247656261e+54,
          1.3405606268240656e+54,
          1.3990729379485307e+54,
          1.454482323483062e+54,
          1.5065588136470952e+54,
          1.555137629098619e+54,
          1.6001180137759554e+54,
          1.64146027910439e+54,
          1.6791813241120852e+54,
          1.713348937343694e+54,
          1.7440752082354277e+54,
          1.771509378674476e+54,
          1.7958304517587388e+54,
          1.8172398470793926e+54,
          1.8359543534785654e+54,
          1.8521995847278475e+54,
          1.8662040944255044e+54,
          1.878194256837882e+54,
          1.8883899731749378e+54,
          1.8970012200812348e+54,
          1.9042254205059807e+54,
          1.910245587526602e+54,
          1.9152291694973154e+54,
          1.919327509933757e+54,
          1.9226758272837913e+54,
          1.925393617340637e+54,
          1.9275853835155126e+54,
          1.929341606412048e+54,
          1.9307398730494165e+54,
          1.9318460966549295e+54,
          1.9327157693007732e+54,
          1.9333952010553385e+54,
          1.933922710181554e+54,
          1.934329738828325e+54,
          1.934641877361125e+54,
          1.9348797878281982e+54,
          1.9350600230305263e+54,
          1.935195742309388e+54,
          1.935297328595961e+54,
          1.9353729136306132e+54,
          1.9354288197213326e+54,
          1.9354699271409793e+54,
          1.9354999764243465e+54,
          1.9355218145663286e+54,
          1.9355375935706512e+54,
          1.935548929062262e+54,
          1.935557025841984e+54,
          1.9355627763957638e+54,
          1.9355668375213145e+54,
          1.935569689435325e+54,
          1.9355716809953882e+54,
          1.9355730640232097e+54,
          1.9355740191529207e+54,
          1.9355746751486014e+54,
          1.9355751232330826e+54,
          1.935575427638301e+54,
          1.9355756333175025e+54,
          1.9355757715427725e+54,
          1.935575863939343e+54,
          1.9355759253732332e+54,
          1.935575966004113e+54,
          1.9355759927349548e+54,
          1.9355760102289615e+54,
          1.9355760216182885e+54,
          1.935576028994796e+54,
          1.9355760337476998e+54,
          1.9355760367944333e+54,
          1.935576038737503e+54,
          1.9355760399704155e+54,
          1.9355760407487692e+54,
          1.935576041237685e+54,
          1.935576041543257e+54,
          1.9355760417332895e+54,
          1.935576041850884e+54,
          1.9355760419232943e+54,
          1.9355760419676634e+54,
          1.9355760419947175e+54,
          1.935576042011134e+54,
          1.9355760420210476e+54,
          1.935576042027005e+54,
          1.935576042030568e+54,
          1.935576042032689e+54,
          1.9355760420339456e+54,
          1.9355760420346864e+54,
          1.935576042035121e+54,
          1.935576042035375e+54,
          1.9355760420355225e+54,
          1.9355760420356083e+54,
          1.9355760420356573e+54,
          1.9355760420356855e+54,
          1.9355760420357015e+54,
          1.9355760420357107e+54,
          1.935576042035716e+54,
          1.935576042035719e+54,
          1.9355760420357205e+54,
          1.9355760420357216e+54,
          1.935576042035722e+54,
          1.9355760420357222e+54,
          1.9355760420357222e+54,
          1.9355760420357226e+54,
          1.9355760420357226e+54,
          1.9355760420357226e+54,
          1.9355760420357226e+54,
          1.9355760420357226e+54,
          1.9355760420357226e+54,
          1.9355760420357226e+54,
          1.9355760420357226e+54,
          1.9355760420357226e+54,
          1.9355760420357226e+54,
          1.9355760420357226e+54,
          1.9355760420357226e+54,
          1.9355760420357226e+54,
          1.9355760420357226e+54,
          1.9355760420357226e+54,
          1.9355760420357226e+54,
          1.9355760420357226e+54,
          1.9355760420357226e+54,
          1.9355760420357226e+54,
          1.9355760420357226e+54,
          1.9355760420357226e+54
         ]
        }
       ],
       "layout": {
        "autosize": true,
        "hovermode": "x unified",
        "showlegend": true,
        "template": {
         "data": {
          "bar": [
           {
            "error_x": {
             "color": "#2a3f5f"
            },
            "error_y": {
             "color": "#2a3f5f"
            },
            "marker": {
             "line": {
              "color": "#E5ECF6",
              "width": 0.5
             },
             "pattern": {
              "fillmode": "overlay",
              "size": 10,
              "solidity": 0.2
             }
            },
            "type": "bar"
           }
          ],
          "barpolar": [
           {
            "marker": {
             "line": {
              "color": "#E5ECF6",
              "width": 0.5
             },
             "pattern": {
              "fillmode": "overlay",
              "size": 10,
              "solidity": 0.2
             }
            },
            "type": "barpolar"
           }
          ],
          "carpet": [
           {
            "aaxis": {
             "endlinecolor": "#2a3f5f",
             "gridcolor": "white",
             "linecolor": "white",
             "minorgridcolor": "white",
             "startlinecolor": "#2a3f5f"
            },
            "baxis": {
             "endlinecolor": "#2a3f5f",
             "gridcolor": "white",
             "linecolor": "white",
             "minorgridcolor": "white",
             "startlinecolor": "#2a3f5f"
            },
            "type": "carpet"
           }
          ],
          "choropleth": [
           {
            "colorbar": {
             "outlinewidth": 0,
             "ticks": ""
            },
            "type": "choropleth"
           }
          ],
          "contour": [
           {
            "colorbar": {
             "outlinewidth": 0,
             "ticks": ""
            },
            "colorscale": [
             [
              0,
              "#0d0887"
             ],
             [
              0.1111111111111111,
              "#46039f"
             ],
             [
              0.2222222222222222,
              "#7201a8"
             ],
             [
              0.3333333333333333,
              "#9c179e"
             ],
             [
              0.4444444444444444,
              "#bd3786"
             ],
             [
              0.5555555555555556,
              "#d8576b"
             ],
             [
              0.6666666666666666,
              "#ed7953"
             ],
             [
              0.7777777777777778,
              "#fb9f3a"
             ],
             [
              0.8888888888888888,
              "#fdca26"
             ],
             [
              1,
              "#f0f921"
             ]
            ],
            "type": "contour"
           }
          ],
          "contourcarpet": [
           {
            "colorbar": {
             "outlinewidth": 0,
             "ticks": ""
            },
            "type": "contourcarpet"
           }
          ],
          "heatmap": [
           {
            "colorbar": {
             "outlinewidth": 0,
             "ticks": ""
            },
            "colorscale": [
             [
              0,
              "#0d0887"
             ],
             [
              0.1111111111111111,
              "#46039f"
             ],
             [
              0.2222222222222222,
              "#7201a8"
             ],
             [
              0.3333333333333333,
              "#9c179e"
             ],
             [
              0.4444444444444444,
              "#bd3786"
             ],
             [
              0.5555555555555556,
              "#d8576b"
             ],
             [
              0.6666666666666666,
              "#ed7953"
             ],
             [
              0.7777777777777778,
              "#fb9f3a"
             ],
             [
              0.8888888888888888,
              "#fdca26"
             ],
             [
              1,
              "#f0f921"
             ]
            ],
            "type": "heatmap"
           }
          ],
          "histogram": [
           {
            "marker": {
             "pattern": {
              "fillmode": "overlay",
              "size": 10,
              "solidity": 0.2
             }
            },
            "type": "histogram"
           }
          ],
          "histogram2d": [
           {
            "colorbar": {
             "outlinewidth": 0,
             "ticks": ""
            },
            "colorscale": [
             [
              0,
              "#0d0887"
             ],
             [
              0.1111111111111111,
              "#46039f"
             ],
             [
              0.2222222222222222,
              "#7201a8"
             ],
             [
              0.3333333333333333,
              "#9c179e"
             ],
             [
              0.4444444444444444,
              "#bd3786"
             ],
             [
              0.5555555555555556,
              "#d8576b"
             ],
             [
              0.6666666666666666,
              "#ed7953"
             ],
             [
              0.7777777777777778,
              "#fb9f3a"
             ],
             [
              0.8888888888888888,
              "#fdca26"
             ],
             [
              1,
              "#f0f921"
             ]
            ],
            "type": "histogram2d"
           }
          ],
          "histogram2dcontour": [
           {
            "colorbar": {
             "outlinewidth": 0,
             "ticks": ""
            },
            "colorscale": [
             [
              0,
              "#0d0887"
             ],
             [
              0.1111111111111111,
              "#46039f"
             ],
             [
              0.2222222222222222,
              "#7201a8"
             ],
             [
              0.3333333333333333,
              "#9c179e"
             ],
             [
              0.4444444444444444,
              "#bd3786"
             ],
             [
              0.5555555555555556,
              "#d8576b"
             ],
             [
              0.6666666666666666,
              "#ed7953"
             ],
             [
              0.7777777777777778,
              "#fb9f3a"
             ],
             [
              0.8888888888888888,
              "#fdca26"
             ],
             [
              1,
              "#f0f921"
             ]
            ],
            "type": "histogram2dcontour"
           }
          ],
          "mesh3d": [
           {
            "colorbar": {
             "outlinewidth": 0,
             "ticks": ""
            },
            "type": "mesh3d"
           }
          ],
          "parcoords": [
           {
            "line": {
             "colorbar": {
              "outlinewidth": 0,
              "ticks": ""
             }
            },
            "type": "parcoords"
           }
          ],
          "pie": [
           {
            "automargin": true,
            "type": "pie"
           }
          ],
          "scatter": [
           {
            "fillpattern": {
             "fillmode": "overlay",
             "size": 10,
             "solidity": 0.2
            },
            "type": "scatter"
           }
          ],
          "scatter3d": [
           {
            "line": {
             "colorbar": {
              "outlinewidth": 0,
              "ticks": ""
             }
            },
            "marker": {
             "colorbar": {
              "outlinewidth": 0,
              "ticks": ""
             }
            },
            "type": "scatter3d"
           }
          ],
          "scattercarpet": [
           {
            "marker": {
             "colorbar": {
              "outlinewidth": 0,
              "ticks": ""
             }
            },
            "type": "scattercarpet"
           }
          ],
          "scattergeo": [
           {
            "marker": {
             "colorbar": {
              "outlinewidth": 0,
              "ticks": ""
             }
            },
            "type": "scattergeo"
           }
          ],
          "scattergl": [
           {
            "marker": {
             "colorbar": {
              "outlinewidth": 0,
              "ticks": ""
             }
            },
            "type": "scattergl"
           }
          ],
          "scattermap": [
           {
            "marker": {
             "colorbar": {
              "outlinewidth": 0,
              "ticks": ""
             }
            },
            "type": "scattermap"
           }
          ],
          "scattermapbox": [
           {
            "marker": {
             "colorbar": {
              "outlinewidth": 0,
              "ticks": ""
             }
            },
            "type": "scattermapbox"
           }
          ],
          "scatterpolar": [
           {
            "marker": {
             "colorbar": {
              "outlinewidth": 0,
              "ticks": ""
             }
            },
            "type": "scatterpolar"
           }
          ],
          "scatterpolargl": [
           {
            "marker": {
             "colorbar": {
              "outlinewidth": 0,
              "ticks": ""
             }
            },
            "type": "scatterpolargl"
           }
          ],
          "scatterternary": [
           {
            "marker": {
             "colorbar": {
              "outlinewidth": 0,
              "ticks": ""
             }
            },
            "type": "scatterternary"
           }
          ],
          "surface": [
           {
            "colorbar": {
             "outlinewidth": 0,
             "ticks": ""
            },
            "colorscale": [
             [
              0,
              "#0d0887"
             ],
             [
              0.1111111111111111,
              "#46039f"
             ],
             [
              0.2222222222222222,
              "#7201a8"
             ],
             [
              0.3333333333333333,
              "#9c179e"
             ],
             [
              0.4444444444444444,
              "#bd3786"
             ],
             [
              0.5555555555555556,
              "#d8576b"
             ],
             [
              0.6666666666666666,
              "#ed7953"
             ],
             [
              0.7777777777777778,
              "#fb9f3a"
             ],
             [
              0.8888888888888888,
              "#fdca26"
             ],
             [
              1,
              "#f0f921"
             ]
            ],
            "type": "surface"
           }
          ],
          "table": [
           {
            "cells": {
             "fill": {
              "color": "#EBF0F8"
             },
             "line": {
              "color": "white"
             }
            },
            "header": {
             "fill": {
              "color": "#C8D4E3"
             },
             "line": {
              "color": "white"
             }
            },
            "type": "table"
           }
          ]
         },
         "layout": {
          "annotationdefaults": {
           "arrowcolor": "#2a3f5f",
           "arrowhead": 0,
           "arrowwidth": 1
          },
          "autotypenumbers": "strict",
          "coloraxis": {
           "colorbar": {
            "outlinewidth": 0,
            "ticks": ""
           }
          },
          "colorscale": {
           "diverging": [
            [
             0,
             "#8e0152"
            ],
            [
             0.1,
             "#c51b7d"
            ],
            [
             0.2,
             "#de77ae"
            ],
            [
             0.3,
             "#f1b6da"
            ],
            [
             0.4,
             "#fde0ef"
            ],
            [
             0.5,
             "#f7f7f7"
            ],
            [
             0.6,
             "#e6f5d0"
            ],
            [
             0.7,
             "#b8e186"
            ],
            [
             0.8,
             "#7fbc41"
            ],
            [
             0.9,
             "#4d9221"
            ],
            [
             1,
             "#276419"
            ]
           ],
           "sequential": [
            [
             0,
             "#0d0887"
            ],
            [
             0.1111111111111111,
             "#46039f"
            ],
            [
             0.2222222222222222,
             "#7201a8"
            ],
            [
             0.3333333333333333,
             "#9c179e"
            ],
            [
             0.4444444444444444,
             "#bd3786"
            ],
            [
             0.5555555555555556,
             "#d8576b"
            ],
            [
             0.6666666666666666,
             "#ed7953"
            ],
            [
             0.7777777777777778,
             "#fb9f3a"
            ],
            [
             0.8888888888888888,
             "#fdca26"
            ],
            [
             1,
             "#f0f921"
            ]
           ],
           "sequentialminus": [
            [
             0,
             "#0d0887"
            ],
            [
             0.1111111111111111,
             "#46039f"
            ],
            [
             0.2222222222222222,
             "#7201a8"
            ],
            [
             0.3333333333333333,
             "#9c179e"
            ],
            [
             0.4444444444444444,
             "#bd3786"
            ],
            [
             0.5555555555555556,
             "#d8576b"
            ],
            [
             0.6666666666666666,
             "#ed7953"
            ],
            [
             0.7777777777777778,
             "#fb9f3a"
            ],
            [
             0.8888888888888888,
             "#fdca26"
            ],
            [
             1,
             "#f0f921"
            ]
           ]
          },
          "colorway": [
           "#636efa",
           "#EF553B",
           "#00cc96",
           "#ab63fa",
           "#FFA15A",
           "#19d3f3",
           "#FF6692",
           "#B6E880",
           "#FF97FF",
           "#FECB52"
          ],
          "font": {
           "color": "#2a3f5f"
          },
          "geo": {
           "bgcolor": "white",
           "lakecolor": "white",
           "landcolor": "#E5ECF6",
           "showlakes": true,
           "showland": true,
           "subunitcolor": "white"
          },
          "hoverlabel": {
           "align": "left"
          },
          "hovermode": "closest",
          "mapbox": {
           "style": "light"
          },
          "paper_bgcolor": "white",
          "plot_bgcolor": "#E5ECF6",
          "polar": {
           "angularaxis": {
            "gridcolor": "white",
            "linecolor": "white",
            "ticks": ""
           },
           "bgcolor": "#E5ECF6",
           "radialaxis": {
            "gridcolor": "white",
            "linecolor": "white",
            "ticks": ""
           }
          },
          "scene": {
           "xaxis": {
            "backgroundcolor": "#E5ECF6",
            "gridcolor": "white",
            "gridwidth": 2,
            "linecolor": "white",
            "showbackground": true,
            "ticks": "",
            "zerolinecolor": "white"
           },
           "yaxis": {
            "backgroundcolor": "#E5ECF6",
            "gridcolor": "white",
            "gridwidth": 2,
            "linecolor": "white",
            "showbackground": true,
            "ticks": "",
            "zerolinecolor": "white"
           },
           "zaxis": {
            "backgroundcolor": "#E5ECF6",
            "gridcolor": "white",
            "gridwidth": 2,
            "linecolor": "white",
            "showbackground": true,
            "ticks": "",
            "zerolinecolor": "white"
           }
          },
          "shapedefaults": {
           "line": {
            "color": "#2a3f5f"
           }
          },
          "ternary": {
           "aaxis": {
            "gridcolor": "white",
            "linecolor": "white",
            "ticks": ""
           },
           "baxis": {
            "gridcolor": "white",
            "linecolor": "white",
            "ticks": ""
           },
           "bgcolor": "#E5ECF6",
           "caxis": {
            "gridcolor": "white",
            "linecolor": "white",
            "ticks": ""
           }
          },
          "title": {
           "x": 0.05
          },
          "xaxis": {
           "automargin": true,
           "gridcolor": "white",
           "linecolor": "white",
           "ticks": "",
           "title": {
            "standoff": 15
           },
           "zerolinecolor": "white",
           "zerolinewidth": 2
          },
          "yaxis": {
           "automargin": true,
           "gridcolor": "white",
           "linecolor": "white",
           "ticks": "",
           "title": {
            "standoff": 15
           },
           "zerolinecolor": "white",
           "zerolinewidth": 2
          }
         }
        },
        "title": {
         "text": "Error in Taylor Series Approximation for e^x"
        },
        "xaxis": {
         "title": {
          "text": "Number of Terms (n)"
         }
        },
        "yaxis": {
         "title": {
          "text": "Value"
         }
        }
       }
      }
     },
     "metadata": {},
     "output_type": "display_data"
    }
   ],
   "source": [
    "plot_ex(125, range(1,250), precision=20)"
   ]
  },
  {
   "cell_type": "markdown",
   "id": "5e2c428e",
   "metadata": {},
   "source": [
    "### Very big x"
   ]
  },
  {
   "cell_type": "code",
   "execution_count": 20,
   "id": "9a050c9c",
   "metadata": {},
   "outputs": [
    {
     "data": {
      "application/vnd.plotly.v1+json": {
       "config": {
        "plotlyServerURL": "https://plot.ly"
       },
       "data": [
        {
         "line": {
          "color": "red",
          "dash": "dashdot"
         },
         "mode": "lines",
         "name": "Error",
         "type": "scatter",
         "x": [
          50,
          51,
          52,
          53,
          54,
          55,
          56,
          57,
          58,
          59,
          60,
          61,
          62,
          63,
          64,
          65,
          66,
          67,
          68,
          69,
          70,
          71,
          72,
          73,
          74,
          75,
          76,
          77,
          78,
          79,
          80,
          81,
          82,
          83,
          84,
          85,
          86,
          87,
          88,
          89,
          90,
          91,
          92,
          93,
          94,
          95,
          96,
          97,
          98,
          99,
          100,
          101,
          102,
          103,
          104,
          105,
          106,
          107,
          108,
          109,
          110,
          111,
          112,
          113,
          114,
          115,
          116,
          117,
          118,
          119,
          120,
          121,
          122,
          123,
          124,
          125,
          126,
          127,
          128,
          129,
          130,
          131,
          132,
          133,
          134,
          135,
          136,
          137,
          138,
          139,
          140,
          141,
          142,
          143,
          144,
          145,
          146,
          147,
          148,
          149
         ],
         "y": [
          9.889030123989042e+42,
          9.889029925066108e+42,
          9.889029538921588e+42,
          9.889028803761829e+42,
          9.889027430538881e+42,
          9.889024912963479e+42,
          9.889020381327756e+42,
          9.889012370043173e+42,
          9.888998455706793e+42,
          9.888974705374007e+42,
          9.888934853120686e+42,
          9.888869096902706e+42,
          9.888762377794836e+42,
          9.888591971477434e+42,
          9.888324190121515e+42,
          9.887909965836578e+42,
          9.887279070387213e+42,
          9.886332727213164e+42,
          9.88493439923957e+42,
          9.88289859821919e+42,
          9.879977666320384e+42,
          9.875846634063502e+42,
          9.870086462325032e+42,
          9.862166226184637e+42,
          9.851425084021635e+42,
          9.837055177614375e+42,
          9.818086901156792e+42,
          9.79337822524494e+42,
          9.761609927643989e+42,
          9.721288626842781e+42,
          9.670759401788102e+42,
          9.608229485782938e+42,
          9.531804032887737e+42,
          9.439534278782555e+42,
          9.329477584126976e+42,
          9.199767908282902e+42,
          9.048694285829215e+42,
          8.874783953004622e+42,
          8.676885988066293e+42,
          8.454250777510671e+42,
          8.206600374757789e+42,
          7.93418493172962e+42,
          7.637820878325347e+42,
          7.318907386075097e+42,
          6.979418829808701e+42,
          6.621872371613242e+42,
          6.24927132570429e+42,
          5.865026497110683e+42,
          5.472859094731641e+42,
          5.076689984165058e+42,
          4.680520873598474e+42,
          4.2883134541375574e+42,
          3.903872518230321e+42,
          3.5307386686732984e+42,
          3.1720954540505285e+42,
          2.830694701669238e+42,
          2.508802563709736e+42,
          2.208167453728691e+42,
          1.9300097351480985e+42,
          1.6750318264492217e+42,
          1.4434463864383152e+42,
          1.2350194904284996e+42,
          1.0491252318251505e+42,
          8.848079853811187e+41,
          7.408486278770555e+41,
          6.15831291097211e+41,
          5.0820767073891016e+41,
          4.163564775020844e+41,
          3.3863623707092418e+41,
          2.7343027264139142e+41,
          2.1918329383026757e+41,
          1.7442953631109034e+41,
          1.3781282561358172e+41,
          1.0809926529347227e+41,
          8.418347284070126e+40,
          6.508941273727924e+40,
          4.996691713536899e+40,
          3.808495630529666e+40,
          2.8822640382641843e+40,
          2.1658817911213514e+40,
          1.6161000665698748e+40,
          1.1974201378729811e+40,
          8.810131688577715e+39,
          6.437079420963641e+39,
          4.670672093942639e+39,
          3.365639815024138e+39,
          2.408616143817237e+39,
          1.711959206688684e+39,
          1.208535580588489e+39,
          8.473838488209577e+38,
          5.901606729577519e+38,
          4.08267141454485e+38,
          2.805546618883614e+38,
          1.915156796556414e+38,
          1.2987330734068144e+38,
          8.749417637414646e+37,
          5.855945936940878e+37,
          3.8939343044278437e+37,
          2.572579531510902e+37,
          1.688700325302948e+37
         ]
        },
        {
         "line": {
          "color": "blue",
          "dash": "dot"
         },
         "mode": "lines",
         "name": "Real value of e^x",
         "type": "scatter",
         "x": [
          50,
          51,
          52,
          53,
          54,
          55,
          56,
          57,
          58,
          59,
          60,
          61,
          62,
          63,
          64,
          65,
          66,
          67,
          68,
          69,
          70,
          71,
          72,
          73,
          74,
          75,
          76,
          77,
          78,
          79,
          80,
          81,
          82,
          83,
          84,
          85,
          86,
          87,
          88,
          89,
          90,
          91,
          92,
          93,
          94,
          95,
          96,
          97,
          98,
          99,
          100,
          101,
          102,
          103,
          104,
          105,
          106,
          107,
          108,
          109,
          110,
          111,
          112,
          113,
          114,
          115,
          116,
          117,
          118,
          119,
          120,
          121,
          122,
          123,
          124,
          125,
          126,
          127,
          128,
          129,
          130,
          131,
          132,
          133,
          134,
          135,
          136,
          137,
          138,
          139,
          140,
          141,
          142,
          143,
          144,
          145,
          146,
          147,
          148,
          149
         ],
         "y": [
          9.889030319346946e+42,
          9.889030319346946e+42,
          9.889030319346946e+42,
          9.889030319346946e+42,
          9.889030319346946e+42,
          9.889030319346946e+42,
          9.889030319346946e+42,
          9.889030319346946e+42,
          9.889030319346946e+42,
          9.889030319346946e+42,
          9.889030319346946e+42,
          9.889030319346946e+42,
          9.889030319346946e+42,
          9.889030319346946e+42,
          9.889030319346946e+42,
          9.889030319346946e+42,
          9.889030319346946e+42,
          9.889030319346946e+42,
          9.889030319346946e+42,
          9.889030319346946e+42,
          9.889030319346946e+42,
          9.889030319346946e+42,
          9.889030319346946e+42,
          9.889030319346946e+42,
          9.889030319346946e+42,
          9.889030319346946e+42,
          9.889030319346946e+42,
          9.889030319346946e+42,
          9.889030319346946e+42,
          9.889030319346946e+42,
          9.889030319346946e+42,
          9.889030319346946e+42,
          9.889030319346946e+42,
          9.889030319346946e+42,
          9.889030319346946e+42,
          9.889030319346946e+42,
          9.889030319346946e+42,
          9.889030319346946e+42,
          9.889030319346946e+42,
          9.889030319346946e+42,
          9.889030319346946e+42,
          9.889030319346946e+42,
          9.889030319346946e+42,
          9.889030319346946e+42,
          9.889030319346946e+42,
          9.889030319346946e+42,
          9.889030319346946e+42,
          9.889030319346946e+42,
          9.889030319346946e+42,
          9.889030319346946e+42,
          9.889030319346946e+42,
          9.889030319346946e+42,
          9.889030319346946e+42,
          9.889030319346946e+42,
          9.889030319346946e+42,
          9.889030319346946e+42,
          9.889030319346946e+42,
          9.889030319346946e+42,
          9.889030319346946e+42,
          9.889030319346946e+42,
          9.889030319346946e+42,
          9.889030319346946e+42,
          9.889030319346946e+42,
          9.889030319346946e+42,
          9.889030319346946e+42,
          9.889030319346946e+42,
          9.889030319346946e+42,
          9.889030319346946e+42,
          9.889030319346946e+42,
          9.889030319346946e+42,
          9.889030319346946e+42,
          9.889030319346946e+42,
          9.889030319346946e+42,
          9.889030319346946e+42,
          9.889030319346946e+42,
          9.889030319346946e+42,
          9.889030319346946e+42,
          9.889030319346946e+42,
          9.889030319346946e+42,
          9.889030319346946e+42,
          9.889030319346946e+42,
          9.889030319346946e+42,
          9.889030319346946e+42,
          9.889030319346946e+42,
          9.889030319346946e+42,
          9.889030319346946e+42,
          9.889030319346946e+42,
          9.889030319346946e+42,
          9.889030319346946e+42,
          9.889030319346946e+42,
          9.889030319346946e+42,
          9.889030319346946e+42,
          9.889030319346946e+42,
          9.889030319346946e+42,
          9.889030319346946e+42,
          9.889030319346946e+42,
          9.889030319346946e+42,
          9.889030319346946e+42,
          9.889030319346946e+42,
          9.889030319346946e+42
         ]
        },
        {
         "line": {
          "color": "green"
         },
         "mode": "lines",
         "name": "Approximation of e^x",
         "type": "scatter",
         "x": [
          50,
          51,
          52,
          53,
          54,
          55,
          56,
          57,
          58,
          59,
          60,
          61,
          62,
          63,
          64,
          65,
          66,
          67,
          68,
          69,
          70,
          71,
          72,
          73,
          74,
          75,
          76,
          77,
          78,
          79,
          80,
          81,
          82,
          83,
          84,
          85,
          86,
          87,
          88,
          89,
          90,
          91,
          92,
          93,
          94,
          95,
          96,
          97,
          98,
          99,
          100,
          101,
          102,
          103,
          104,
          105,
          106,
          107,
          108,
          109,
          110,
          111,
          112,
          113,
          114,
          115,
          116,
          117,
          118,
          119,
          120,
          121,
          122,
          123,
          124,
          125,
          126,
          127,
          128,
          129,
          130,
          131,
          132,
          133,
          134,
          135,
          136,
          137,
          138,
          139,
          140,
          141,
          142,
          143,
          144,
          145,
          146,
          147,
          148,
          149
         ],
         "y": [
          1.953579046423418e+35,
          3.942808391927803e+35,
          7.80425359202455e+35,
          1.5155851184516435e+36,
          2.8888080649737124e+36,
          5.406383466930838e+36,
          9.938019190453666e+36,
          1.7949303773110094e+37,
          3.186364015351336e+37,
          5.561397294075342e+37,
          9.546622626171556e+37,
          1.6122244424130309e+38,
          2.6794155210981397e+38,
          4.383478695127588e+38,
          7.061292254316721e+38,
          1.1203535103687411e+39,
          1.7512489597344308e+39,
          2.6975921337829653e+39,
          4.0959201073770686e+39,
          6.13172112775672e+39,
          9.052653026562305e+39,
          1.318368528344449e+40,
          1.8943857021914016e+40,
          2.6864093162309613e+40,
          3.760523532531186e+40,
          5.197514173257163e+40,
          7.094341819015451e+40,
          9.565209410200592e+40,
          1.274203917029577e+41,
          1.6774169250416576e+41,
          2.182709175588442e+41,
          2.8080083356400876e+41,
          3.572262864592099e+41,
          4.4949604056439175e+41,
          5.595527352199702e+41,
          6.892624110640446e+41,
          8.403360335177314e+41,
          1.0142463663423244e+42,
          1.2121443312806543e+42,
          1.4347795418362753e+42,
          1.6824299445891572e+42,
          1.9548453876173274e+42,
          2.2512094410216004e+42,
          2.5701229332718507e+42,
          2.909611489538246e+42,
          3.267157947733705e+42,
          3.6397589936426573e+42,
          4.0240038222362636e+42,
          4.4161712246153055e+42,
          4.812340335181889e+42,
          5.208509445748472e+42,
          5.60071686520939e+42,
          5.985157801116626e+42,
          6.358291650673649e+42,
          6.716934865296418e+42,
          7.058335617677708e+42,
          7.380227755637212e+42,
          7.680862865618256e+42,
          7.959020584198848e+42,
          8.213998492897725e+42,
          8.445583932908631e+42,
          8.654010828918447e+42,
          8.839905087521796e+42,
          9.004222333965829e+42,
          9.148181691469892e+42,
          9.273199028249735e+42,
          9.380822648608036e+42,
          9.472673841844862e+42,
          9.550394082276022e+42,
          9.615600046705555e+42,
          9.669847025516679e+42,
          9.714600783035857e+42,
          9.751217493733366e+42,
          9.780931054053474e+42,
          9.804846846506245e+42,
          9.823940906609668e+42,
          9.839063402211578e+42,
          9.85094536304165e+42,
          9.860207678964305e+42,
          9.867371501435733e+42,
          9.872869318681248e+42,
          9.877056117968217e+42,
          9.880220187658368e+42,
          9.882593239925983e+42,
          9.884359647253004e+42,
          9.885664679531923e+42,
          9.88662170320313e+42,
          9.887318360140258e+42,
          9.887821783766358e+42,
          9.888182935498126e+42,
          9.888440158673988e+42,
          9.888622052205492e+42,
          9.888749764685058e+42,
          9.888838803667291e+42,
          9.888900446039607e+42,
          9.888942825170572e+42,
          9.888971759887577e+42,
          9.888991380003902e+42,
          9.889004593551631e+42,
          9.889013432343694e+42
         ]
        }
       ],
       "layout": {
        "autosize": true,
        "hovermode": "x unified",
        "showlegend": true,
        "template": {
         "data": {
          "bar": [
           {
            "error_x": {
             "color": "#2a3f5f"
            },
            "error_y": {
             "color": "#2a3f5f"
            },
            "marker": {
             "line": {
              "color": "#E5ECF6",
              "width": 0.5
             },
             "pattern": {
              "fillmode": "overlay",
              "size": 10,
              "solidity": 0.2
             }
            },
            "type": "bar"
           }
          ],
          "barpolar": [
           {
            "marker": {
             "line": {
              "color": "#E5ECF6",
              "width": 0.5
             },
             "pattern": {
              "fillmode": "overlay",
              "size": 10,
              "solidity": 0.2
             }
            },
            "type": "barpolar"
           }
          ],
          "carpet": [
           {
            "aaxis": {
             "endlinecolor": "#2a3f5f",
             "gridcolor": "white",
             "linecolor": "white",
             "minorgridcolor": "white",
             "startlinecolor": "#2a3f5f"
            },
            "baxis": {
             "endlinecolor": "#2a3f5f",
             "gridcolor": "white",
             "linecolor": "white",
             "minorgridcolor": "white",
             "startlinecolor": "#2a3f5f"
            },
            "type": "carpet"
           }
          ],
          "choropleth": [
           {
            "colorbar": {
             "outlinewidth": 0,
             "ticks": ""
            },
            "type": "choropleth"
           }
          ],
          "contour": [
           {
            "colorbar": {
             "outlinewidth": 0,
             "ticks": ""
            },
            "colorscale": [
             [
              0,
              "#0d0887"
             ],
             [
              0.1111111111111111,
              "#46039f"
             ],
             [
              0.2222222222222222,
              "#7201a8"
             ],
             [
              0.3333333333333333,
              "#9c179e"
             ],
             [
              0.4444444444444444,
              "#bd3786"
             ],
             [
              0.5555555555555556,
              "#d8576b"
             ],
             [
              0.6666666666666666,
              "#ed7953"
             ],
             [
              0.7777777777777778,
              "#fb9f3a"
             ],
             [
              0.8888888888888888,
              "#fdca26"
             ],
             [
              1,
              "#f0f921"
             ]
            ],
            "type": "contour"
           }
          ],
          "contourcarpet": [
           {
            "colorbar": {
             "outlinewidth": 0,
             "ticks": ""
            },
            "type": "contourcarpet"
           }
          ],
          "heatmap": [
           {
            "colorbar": {
             "outlinewidth": 0,
             "ticks": ""
            },
            "colorscale": [
             [
              0,
              "#0d0887"
             ],
             [
              0.1111111111111111,
              "#46039f"
             ],
             [
              0.2222222222222222,
              "#7201a8"
             ],
             [
              0.3333333333333333,
              "#9c179e"
             ],
             [
              0.4444444444444444,
              "#bd3786"
             ],
             [
              0.5555555555555556,
              "#d8576b"
             ],
             [
              0.6666666666666666,
              "#ed7953"
             ],
             [
              0.7777777777777778,
              "#fb9f3a"
             ],
             [
              0.8888888888888888,
              "#fdca26"
             ],
             [
              1,
              "#f0f921"
             ]
            ],
            "type": "heatmap"
           }
          ],
          "histogram": [
           {
            "marker": {
             "pattern": {
              "fillmode": "overlay",
              "size": 10,
              "solidity": 0.2
             }
            },
            "type": "histogram"
           }
          ],
          "histogram2d": [
           {
            "colorbar": {
             "outlinewidth": 0,
             "ticks": ""
            },
            "colorscale": [
             [
              0,
              "#0d0887"
             ],
             [
              0.1111111111111111,
              "#46039f"
             ],
             [
              0.2222222222222222,
              "#7201a8"
             ],
             [
              0.3333333333333333,
              "#9c179e"
             ],
             [
              0.4444444444444444,
              "#bd3786"
             ],
             [
              0.5555555555555556,
              "#d8576b"
             ],
             [
              0.6666666666666666,
              "#ed7953"
             ],
             [
              0.7777777777777778,
              "#fb9f3a"
             ],
             [
              0.8888888888888888,
              "#fdca26"
             ],
             [
              1,
              "#f0f921"
             ]
            ],
            "type": "histogram2d"
           }
          ],
          "histogram2dcontour": [
           {
            "colorbar": {
             "outlinewidth": 0,
             "ticks": ""
            },
            "colorscale": [
             [
              0,
              "#0d0887"
             ],
             [
              0.1111111111111111,
              "#46039f"
             ],
             [
              0.2222222222222222,
              "#7201a8"
             ],
             [
              0.3333333333333333,
              "#9c179e"
             ],
             [
              0.4444444444444444,
              "#bd3786"
             ],
             [
              0.5555555555555556,
              "#d8576b"
             ],
             [
              0.6666666666666666,
              "#ed7953"
             ],
             [
              0.7777777777777778,
              "#fb9f3a"
             ],
             [
              0.8888888888888888,
              "#fdca26"
             ],
             [
              1,
              "#f0f921"
             ]
            ],
            "type": "histogram2dcontour"
           }
          ],
          "mesh3d": [
           {
            "colorbar": {
             "outlinewidth": 0,
             "ticks": ""
            },
            "type": "mesh3d"
           }
          ],
          "parcoords": [
           {
            "line": {
             "colorbar": {
              "outlinewidth": 0,
              "ticks": ""
             }
            },
            "type": "parcoords"
           }
          ],
          "pie": [
           {
            "automargin": true,
            "type": "pie"
           }
          ],
          "scatter": [
           {
            "fillpattern": {
             "fillmode": "overlay",
             "size": 10,
             "solidity": 0.2
            },
            "type": "scatter"
           }
          ],
          "scatter3d": [
           {
            "line": {
             "colorbar": {
              "outlinewidth": 0,
              "ticks": ""
             }
            },
            "marker": {
             "colorbar": {
              "outlinewidth": 0,
              "ticks": ""
             }
            },
            "type": "scatter3d"
           }
          ],
          "scattercarpet": [
           {
            "marker": {
             "colorbar": {
              "outlinewidth": 0,
              "ticks": ""
             }
            },
            "type": "scattercarpet"
           }
          ],
          "scattergeo": [
           {
            "marker": {
             "colorbar": {
              "outlinewidth": 0,
              "ticks": ""
             }
            },
            "type": "scattergeo"
           }
          ],
          "scattergl": [
           {
            "marker": {
             "colorbar": {
              "outlinewidth": 0,
              "ticks": ""
             }
            },
            "type": "scattergl"
           }
          ],
          "scattermap": [
           {
            "marker": {
             "colorbar": {
              "outlinewidth": 0,
              "ticks": ""
             }
            },
            "type": "scattermap"
           }
          ],
          "scattermapbox": [
           {
            "marker": {
             "colorbar": {
              "outlinewidth": 0,
              "ticks": ""
             }
            },
            "type": "scattermapbox"
           }
          ],
          "scatterpolar": [
           {
            "marker": {
             "colorbar": {
              "outlinewidth": 0,
              "ticks": ""
             }
            },
            "type": "scatterpolar"
           }
          ],
          "scatterpolargl": [
           {
            "marker": {
             "colorbar": {
              "outlinewidth": 0,
              "ticks": ""
             }
            },
            "type": "scatterpolargl"
           }
          ],
          "scatterternary": [
           {
            "marker": {
             "colorbar": {
              "outlinewidth": 0,
              "ticks": ""
             }
            },
            "type": "scatterternary"
           }
          ],
          "surface": [
           {
            "colorbar": {
             "outlinewidth": 0,
             "ticks": ""
            },
            "colorscale": [
             [
              0,
              "#0d0887"
             ],
             [
              0.1111111111111111,
              "#46039f"
             ],
             [
              0.2222222222222222,
              "#7201a8"
             ],
             [
              0.3333333333333333,
              "#9c179e"
             ],
             [
              0.4444444444444444,
              "#bd3786"
             ],
             [
              0.5555555555555556,
              "#d8576b"
             ],
             [
              0.6666666666666666,
              "#ed7953"
             ],
             [
              0.7777777777777778,
              "#fb9f3a"
             ],
             [
              0.8888888888888888,
              "#fdca26"
             ],
             [
              1,
              "#f0f921"
             ]
            ],
            "type": "surface"
           }
          ],
          "table": [
           {
            "cells": {
             "fill": {
              "color": "#EBF0F8"
             },
             "line": {
              "color": "white"
             }
            },
            "header": {
             "fill": {
              "color": "#C8D4E3"
             },
             "line": {
              "color": "white"
             }
            },
            "type": "table"
           }
          ]
         },
         "layout": {
          "annotationdefaults": {
           "arrowcolor": "#2a3f5f",
           "arrowhead": 0,
           "arrowwidth": 1
          },
          "autotypenumbers": "strict",
          "coloraxis": {
           "colorbar": {
            "outlinewidth": 0,
            "ticks": ""
           }
          },
          "colorscale": {
           "diverging": [
            [
             0,
             "#8e0152"
            ],
            [
             0.1,
             "#c51b7d"
            ],
            [
             0.2,
             "#de77ae"
            ],
            [
             0.3,
             "#f1b6da"
            ],
            [
             0.4,
             "#fde0ef"
            ],
            [
             0.5,
             "#f7f7f7"
            ],
            [
             0.6,
             "#e6f5d0"
            ],
            [
             0.7,
             "#b8e186"
            ],
            [
             0.8,
             "#7fbc41"
            ],
            [
             0.9,
             "#4d9221"
            ],
            [
             1,
             "#276419"
            ]
           ],
           "sequential": [
            [
             0,
             "#0d0887"
            ],
            [
             0.1111111111111111,
             "#46039f"
            ],
            [
             0.2222222222222222,
             "#7201a8"
            ],
            [
             0.3333333333333333,
             "#9c179e"
            ],
            [
             0.4444444444444444,
             "#bd3786"
            ],
            [
             0.5555555555555556,
             "#d8576b"
            ],
            [
             0.6666666666666666,
             "#ed7953"
            ],
            [
             0.7777777777777778,
             "#fb9f3a"
            ],
            [
             0.8888888888888888,
             "#fdca26"
            ],
            [
             1,
             "#f0f921"
            ]
           ],
           "sequentialminus": [
            [
             0,
             "#0d0887"
            ],
            [
             0.1111111111111111,
             "#46039f"
            ],
            [
             0.2222222222222222,
             "#7201a8"
            ],
            [
             0.3333333333333333,
             "#9c179e"
            ],
            [
             0.4444444444444444,
             "#bd3786"
            ],
            [
             0.5555555555555556,
             "#d8576b"
            ],
            [
             0.6666666666666666,
             "#ed7953"
            ],
            [
             0.7777777777777778,
             "#fb9f3a"
            ],
            [
             0.8888888888888888,
             "#fdca26"
            ],
            [
             1,
             "#f0f921"
            ]
           ]
          },
          "colorway": [
           "#636efa",
           "#EF553B",
           "#00cc96",
           "#ab63fa",
           "#FFA15A",
           "#19d3f3",
           "#FF6692",
           "#B6E880",
           "#FF97FF",
           "#FECB52"
          ],
          "font": {
           "color": "#2a3f5f"
          },
          "geo": {
           "bgcolor": "white",
           "lakecolor": "white",
           "landcolor": "#E5ECF6",
           "showlakes": true,
           "showland": true,
           "subunitcolor": "white"
          },
          "hoverlabel": {
           "align": "left"
          },
          "hovermode": "closest",
          "mapbox": {
           "style": "light"
          },
          "paper_bgcolor": "white",
          "plot_bgcolor": "#E5ECF6",
          "polar": {
           "angularaxis": {
            "gridcolor": "white",
            "linecolor": "white",
            "ticks": ""
           },
           "bgcolor": "#E5ECF6",
           "radialaxis": {
            "gridcolor": "white",
            "linecolor": "white",
            "ticks": ""
           }
          },
          "scene": {
           "xaxis": {
            "backgroundcolor": "#E5ECF6",
            "gridcolor": "white",
            "gridwidth": 2,
            "linecolor": "white",
            "showbackground": true,
            "ticks": "",
            "zerolinecolor": "white"
           },
           "yaxis": {
            "backgroundcolor": "#E5ECF6",
            "gridcolor": "white",
            "gridwidth": 2,
            "linecolor": "white",
            "showbackground": true,
            "ticks": "",
            "zerolinecolor": "white"
           },
           "zaxis": {
            "backgroundcolor": "#E5ECF6",
            "gridcolor": "white",
            "gridwidth": 2,
            "linecolor": "white",
            "showbackground": true,
            "ticks": "",
            "zerolinecolor": "white"
           }
          },
          "shapedefaults": {
           "line": {
            "color": "#2a3f5f"
           }
          },
          "ternary": {
           "aaxis": {
            "gridcolor": "white",
            "linecolor": "white",
            "ticks": ""
           },
           "baxis": {
            "gridcolor": "white",
            "linecolor": "white",
            "ticks": ""
           },
           "bgcolor": "#E5ECF6",
           "caxis": {
            "gridcolor": "white",
            "linecolor": "white",
            "ticks": ""
           }
          },
          "title": {
           "x": 0.05
          },
          "xaxis": {
           "automargin": true,
           "gridcolor": "white",
           "linecolor": "white",
           "ticks": "",
           "title": {
            "standoff": 15
           },
           "zerolinecolor": "white",
           "zerolinewidth": 2
          },
          "yaxis": {
           "automargin": true,
           "gridcolor": "white",
           "linecolor": "white",
           "ticks": "",
           "title": {
            "standoff": 15
           },
           "zerolinecolor": "white",
           "zerolinewidth": 2
          }
         }
        },
        "title": {
         "text": "Error in Taylor Series Approximation for e^x"
        },
        "xaxis": {
         "title": {
          "text": "Number of Terms (n)"
         }
        },
        "yaxis": {
         "title": {
          "text": "Value"
         }
        }
       }
      }
     },
     "metadata": {},
     "output_type": "display_data"
    }
   ],
   "source": [
    "plot_ex(99, range(50,150), precision=50000)"
   ]
  },
  {
   "cell_type": "code",
   "execution_count": 21,
   "id": "91d07e6a",
   "metadata": {},
   "outputs": [
    {
     "data": {
      "application/vnd.plotly.v1+json": {
       "config": {
        "plotlyServerURL": "https://plot.ly"
       },
       "data": [
        {
         "line": {
          "color": "red",
          "dash": "dashdot"
         },
         "mode": "lines",
         "name": "Error",
         "type": "scatter",
         "x": [
          1,
          2,
          3,
          4,
          5,
          6,
          7,
          8,
          9,
          10,
          11,
          12,
          13,
          14
         ],
         "y": [
          19,
          16,
          11.5,
          7,
          3.5,
          1.5,
          0.5,
          0.5,
          0.5,
          0.5,
          0.5,
          0.5,
          0.5,
          0.5
         ]
        },
        {
         "line": {
          "color": "blue",
          "dash": "dot"
         },
         "mode": "lines",
         "name": "Real value of e^x",
         "type": "scatter",
         "x": [
          1,
          2,
          3,
          4,
          5,
          6,
          7,
          8,
          9,
          10,
          11,
          12,
          13,
          14
         ],
         "y": [
          20,
          20,
          20,
          20,
          20,
          20,
          20,
          20,
          20,
          20,
          20,
          20,
          20,
          20
         ]
        },
        {
         "line": {
          "color": "green"
         },
         "mode": "lines",
         "name": "Approximation of e^x",
         "type": "scatter",
         "x": [
          1,
          2,
          3,
          4,
          5,
          6,
          7,
          8,
          9,
          10,
          11,
          12,
          13,
          14
         ],
         "y": [
          1,
          4,
          8.5,
          13,
          16.5,
          18.5,
          19.5,
          19.5,
          19.5,
          19.5,
          19.5,
          19.5,
          19.5,
          19.5
         ]
        }
       ],
       "layout": {
        "autosize": true,
        "hovermode": "x unified",
        "showlegend": true,
        "template": {
         "data": {
          "bar": [
           {
            "error_x": {
             "color": "#2a3f5f"
            },
            "error_y": {
             "color": "#2a3f5f"
            },
            "marker": {
             "line": {
              "color": "#E5ECF6",
              "width": 0.5
             },
             "pattern": {
              "fillmode": "overlay",
              "size": 10,
              "solidity": 0.2
             }
            },
            "type": "bar"
           }
          ],
          "barpolar": [
           {
            "marker": {
             "line": {
              "color": "#E5ECF6",
              "width": 0.5
             },
             "pattern": {
              "fillmode": "overlay",
              "size": 10,
              "solidity": 0.2
             }
            },
            "type": "barpolar"
           }
          ],
          "carpet": [
           {
            "aaxis": {
             "endlinecolor": "#2a3f5f",
             "gridcolor": "white",
             "linecolor": "white",
             "minorgridcolor": "white",
             "startlinecolor": "#2a3f5f"
            },
            "baxis": {
             "endlinecolor": "#2a3f5f",
             "gridcolor": "white",
             "linecolor": "white",
             "minorgridcolor": "white",
             "startlinecolor": "#2a3f5f"
            },
            "type": "carpet"
           }
          ],
          "choropleth": [
           {
            "colorbar": {
             "outlinewidth": 0,
             "ticks": ""
            },
            "type": "choropleth"
           }
          ],
          "contour": [
           {
            "colorbar": {
             "outlinewidth": 0,
             "ticks": ""
            },
            "colorscale": [
             [
              0,
              "#0d0887"
             ],
             [
              0.1111111111111111,
              "#46039f"
             ],
             [
              0.2222222222222222,
              "#7201a8"
             ],
             [
              0.3333333333333333,
              "#9c179e"
             ],
             [
              0.4444444444444444,
              "#bd3786"
             ],
             [
              0.5555555555555556,
              "#d8576b"
             ],
             [
              0.6666666666666666,
              "#ed7953"
             ],
             [
              0.7777777777777778,
              "#fb9f3a"
             ],
             [
              0.8888888888888888,
              "#fdca26"
             ],
             [
              1,
              "#f0f921"
             ]
            ],
            "type": "contour"
           }
          ],
          "contourcarpet": [
           {
            "colorbar": {
             "outlinewidth": 0,
             "ticks": ""
            },
            "type": "contourcarpet"
           }
          ],
          "heatmap": [
           {
            "colorbar": {
             "outlinewidth": 0,
             "ticks": ""
            },
            "colorscale": [
             [
              0,
              "#0d0887"
             ],
             [
              0.1111111111111111,
              "#46039f"
             ],
             [
              0.2222222222222222,
              "#7201a8"
             ],
             [
              0.3333333333333333,
              "#9c179e"
             ],
             [
              0.4444444444444444,
              "#bd3786"
             ],
             [
              0.5555555555555556,
              "#d8576b"
             ],
             [
              0.6666666666666666,
              "#ed7953"
             ],
             [
              0.7777777777777778,
              "#fb9f3a"
             ],
             [
              0.8888888888888888,
              "#fdca26"
             ],
             [
              1,
              "#f0f921"
             ]
            ],
            "type": "heatmap"
           }
          ],
          "histogram": [
           {
            "marker": {
             "pattern": {
              "fillmode": "overlay",
              "size": 10,
              "solidity": 0.2
             }
            },
            "type": "histogram"
           }
          ],
          "histogram2d": [
           {
            "colorbar": {
             "outlinewidth": 0,
             "ticks": ""
            },
            "colorscale": [
             [
              0,
              "#0d0887"
             ],
             [
              0.1111111111111111,
              "#46039f"
             ],
             [
              0.2222222222222222,
              "#7201a8"
             ],
             [
              0.3333333333333333,
              "#9c179e"
             ],
             [
              0.4444444444444444,
              "#bd3786"
             ],
             [
              0.5555555555555556,
              "#d8576b"
             ],
             [
              0.6666666666666666,
              "#ed7953"
             ],
             [
              0.7777777777777778,
              "#fb9f3a"
             ],
             [
              0.8888888888888888,
              "#fdca26"
             ],
             [
              1,
              "#f0f921"
             ]
            ],
            "type": "histogram2d"
           }
          ],
          "histogram2dcontour": [
           {
            "colorbar": {
             "outlinewidth": 0,
             "ticks": ""
            },
            "colorscale": [
             [
              0,
              "#0d0887"
             ],
             [
              0.1111111111111111,
              "#46039f"
             ],
             [
              0.2222222222222222,
              "#7201a8"
             ],
             [
              0.3333333333333333,
              "#9c179e"
             ],
             [
              0.4444444444444444,
              "#bd3786"
             ],
             [
              0.5555555555555556,
              "#d8576b"
             ],
             [
              0.6666666666666666,
              "#ed7953"
             ],
             [
              0.7777777777777778,
              "#fb9f3a"
             ],
             [
              0.8888888888888888,
              "#fdca26"
             ],
             [
              1,
              "#f0f921"
             ]
            ],
            "type": "histogram2dcontour"
           }
          ],
          "mesh3d": [
           {
            "colorbar": {
             "outlinewidth": 0,
             "ticks": ""
            },
            "type": "mesh3d"
           }
          ],
          "parcoords": [
           {
            "line": {
             "colorbar": {
              "outlinewidth": 0,
              "ticks": ""
             }
            },
            "type": "parcoords"
           }
          ],
          "pie": [
           {
            "automargin": true,
            "type": "pie"
           }
          ],
          "scatter": [
           {
            "fillpattern": {
             "fillmode": "overlay",
             "size": 10,
             "solidity": 0.2
            },
            "type": "scatter"
           }
          ],
          "scatter3d": [
           {
            "line": {
             "colorbar": {
              "outlinewidth": 0,
              "ticks": ""
             }
            },
            "marker": {
             "colorbar": {
              "outlinewidth": 0,
              "ticks": ""
             }
            },
            "type": "scatter3d"
           }
          ],
          "scattercarpet": [
           {
            "marker": {
             "colorbar": {
              "outlinewidth": 0,
              "ticks": ""
             }
            },
            "type": "scattercarpet"
           }
          ],
          "scattergeo": [
           {
            "marker": {
             "colorbar": {
              "outlinewidth": 0,
              "ticks": ""
             }
            },
            "type": "scattergeo"
           }
          ],
          "scattergl": [
           {
            "marker": {
             "colorbar": {
              "outlinewidth": 0,
              "ticks": ""
             }
            },
            "type": "scattergl"
           }
          ],
          "scattermap": [
           {
            "marker": {
             "colorbar": {
              "outlinewidth": 0,
              "ticks": ""
             }
            },
            "type": "scattermap"
           }
          ],
          "scattermapbox": [
           {
            "marker": {
             "colorbar": {
              "outlinewidth": 0,
              "ticks": ""
             }
            },
            "type": "scattermapbox"
           }
          ],
          "scatterpolar": [
           {
            "marker": {
             "colorbar": {
              "outlinewidth": 0,
              "ticks": ""
             }
            },
            "type": "scatterpolar"
           }
          ],
          "scatterpolargl": [
           {
            "marker": {
             "colorbar": {
              "outlinewidth": 0,
              "ticks": ""
             }
            },
            "type": "scatterpolargl"
           }
          ],
          "scatterternary": [
           {
            "marker": {
             "colorbar": {
              "outlinewidth": 0,
              "ticks": ""
             }
            },
            "type": "scatterternary"
           }
          ],
          "surface": [
           {
            "colorbar": {
             "outlinewidth": 0,
             "ticks": ""
            },
            "colorscale": [
             [
              0,
              "#0d0887"
             ],
             [
              0.1111111111111111,
              "#46039f"
             ],
             [
              0.2222222222222222,
              "#7201a8"
             ],
             [
              0.3333333333333333,
              "#9c179e"
             ],
             [
              0.4444444444444444,
              "#bd3786"
             ],
             [
              0.5555555555555556,
              "#d8576b"
             ],
             [
              0.6666666666666666,
              "#ed7953"
             ],
             [
              0.7777777777777778,
              "#fb9f3a"
             ],
             [
              0.8888888888888888,
              "#fdca26"
             ],
             [
              1,
              "#f0f921"
             ]
            ],
            "type": "surface"
           }
          ],
          "table": [
           {
            "cells": {
             "fill": {
              "color": "#EBF0F8"
             },
             "line": {
              "color": "white"
             }
            },
            "header": {
             "fill": {
              "color": "#C8D4E3"
             },
             "line": {
              "color": "white"
             }
            },
            "type": "table"
           }
          ]
         },
         "layout": {
          "annotationdefaults": {
           "arrowcolor": "#2a3f5f",
           "arrowhead": 0,
           "arrowwidth": 1
          },
          "autotypenumbers": "strict",
          "coloraxis": {
           "colorbar": {
            "outlinewidth": 0,
            "ticks": ""
           }
          },
          "colorscale": {
           "diverging": [
            [
             0,
             "#8e0152"
            ],
            [
             0.1,
             "#c51b7d"
            ],
            [
             0.2,
             "#de77ae"
            ],
            [
             0.3,
             "#f1b6da"
            ],
            [
             0.4,
             "#fde0ef"
            ],
            [
             0.5,
             "#f7f7f7"
            ],
            [
             0.6,
             "#e6f5d0"
            ],
            [
             0.7,
             "#b8e186"
            ],
            [
             0.8,
             "#7fbc41"
            ],
            [
             0.9,
             "#4d9221"
            ],
            [
             1,
             "#276419"
            ]
           ],
           "sequential": [
            [
             0,
             "#0d0887"
            ],
            [
             0.1111111111111111,
             "#46039f"
            ],
            [
             0.2222222222222222,
             "#7201a8"
            ],
            [
             0.3333333333333333,
             "#9c179e"
            ],
            [
             0.4444444444444444,
             "#bd3786"
            ],
            [
             0.5555555555555556,
             "#d8576b"
            ],
            [
             0.6666666666666666,
             "#ed7953"
            ],
            [
             0.7777777777777778,
             "#fb9f3a"
            ],
            [
             0.8888888888888888,
             "#fdca26"
            ],
            [
             1,
             "#f0f921"
            ]
           ],
           "sequentialminus": [
            [
             0,
             "#0d0887"
            ],
            [
             0.1111111111111111,
             "#46039f"
            ],
            [
             0.2222222222222222,
             "#7201a8"
            ],
            [
             0.3333333333333333,
             "#9c179e"
            ],
            [
             0.4444444444444444,
             "#bd3786"
            ],
            [
             0.5555555555555556,
             "#d8576b"
            ],
            [
             0.6666666666666666,
             "#ed7953"
            ],
            [
             0.7777777777777778,
             "#fb9f3a"
            ],
            [
             0.8888888888888888,
             "#fdca26"
            ],
            [
             1,
             "#f0f921"
            ]
           ]
          },
          "colorway": [
           "#636efa",
           "#EF553B",
           "#00cc96",
           "#ab63fa",
           "#FFA15A",
           "#19d3f3",
           "#FF6692",
           "#B6E880",
           "#FF97FF",
           "#FECB52"
          ],
          "font": {
           "color": "#2a3f5f"
          },
          "geo": {
           "bgcolor": "white",
           "lakecolor": "white",
           "landcolor": "#E5ECF6",
           "showlakes": true,
           "showland": true,
           "subunitcolor": "white"
          },
          "hoverlabel": {
           "align": "left"
          },
          "hovermode": "closest",
          "mapbox": {
           "style": "light"
          },
          "paper_bgcolor": "white",
          "plot_bgcolor": "#E5ECF6",
          "polar": {
           "angularaxis": {
            "gridcolor": "white",
            "linecolor": "white",
            "ticks": ""
           },
           "bgcolor": "#E5ECF6",
           "radialaxis": {
            "gridcolor": "white",
            "linecolor": "white",
            "ticks": ""
           }
          },
          "scene": {
           "xaxis": {
            "backgroundcolor": "#E5ECF6",
            "gridcolor": "white",
            "gridwidth": 2,
            "linecolor": "white",
            "showbackground": true,
            "ticks": "",
            "zerolinecolor": "white"
           },
           "yaxis": {
            "backgroundcolor": "#E5ECF6",
            "gridcolor": "white",
            "gridwidth": 2,
            "linecolor": "white",
            "showbackground": true,
            "ticks": "",
            "zerolinecolor": "white"
           },
           "zaxis": {
            "backgroundcolor": "#E5ECF6",
            "gridcolor": "white",
            "gridwidth": 2,
            "linecolor": "white",
            "showbackground": true,
            "ticks": "",
            "zerolinecolor": "white"
           }
          },
          "shapedefaults": {
           "line": {
            "color": "#2a3f5f"
           }
          },
          "ternary": {
           "aaxis": {
            "gridcolor": "white",
            "linecolor": "white",
            "ticks": ""
           },
           "baxis": {
            "gridcolor": "white",
            "linecolor": "white",
            "ticks": ""
           },
           "bgcolor": "#E5ECF6",
           "caxis": {
            "gridcolor": "white",
            "linecolor": "white",
            "ticks": ""
           }
          },
          "title": {
           "x": 0.05
          },
          "xaxis": {
           "automargin": true,
           "gridcolor": "white",
           "linecolor": "white",
           "ticks": "",
           "title": {
            "standoff": 15
           },
           "zerolinecolor": "white",
           "zerolinewidth": 2
          },
          "yaxis": {
           "automargin": true,
           "gridcolor": "white",
           "linecolor": "white",
           "ticks": "",
           "title": {
            "standoff": 15
           },
           "zerolinecolor": "white",
           "zerolinewidth": 2
          }
         }
        },
        "title": {
         "text": "Error in Taylor Series Approximation for e^x"
        },
        "xaxis": {
         "title": {
          "text": "Number of Terms (n)"
         }
        },
        "yaxis": {
         "title": {
          "text": "Value"
         }
        }
       }
      }
     },
     "metadata": {},
     "output_type": "display_data"
    }
   ],
   "source": [
    "plot_ex(3, range(1,15), precision=1)"
   ]
  },
  {
   "cell_type": "code",
   "execution_count": null,
   "id": "a3d8e4a4",
   "metadata": {},
   "outputs": [],
   "source": [
    "plot_ex(3, range(999,1001), precision=50000)"
   ]
  },
  {
   "cell_type": "code",
   "execution_count": null,
   "id": "22761e02",
   "metadata": {},
   "outputs": [
    {
     "data": {
      "application/vnd.plotly.v1+json": {
       "config": {
        "plotlyServerURL": "https://plot.ly"
       },
       "data": [
        {
         "line": {
          "color": "red",
          "dash": "dashdot"
         },
         "mode": "lines",
         "name": "Error",
         "type": "scatter",
         "x": [
          999,
          1000,
          1001,
          1002,
          1003,
          1004
         ],
         "y": [
          0,
          0,
          0,
          0,
          0,
          0
         ]
        },
        {
         "line": {
          "color": "blue",
          "dash": "dot"
         },
         "mode": "lines",
         "name": "Real value of e^x",
         "type": "scatter",
         "x": [
          999,
          1000,
          1001,
          1002,
          1003,
          1004
         ],
         "y": [
          20.085536923187668,
          20.085536923187668,
          20.085536923187668,
          20.085536923187668,
          20.085536923187668,
          20.085536923187668
         ]
        },
        {
         "line": {
          "color": "green"
         },
         "mode": "lines",
         "name": "Approximation of e^x",
         "type": "scatter",
         "x": [
          999,
          1000,
          1001,
          1002,
          1003,
          1004
         ],
         "y": [
          20.085536923187668,
          20.085536923187668,
          20.085536923187668,
          20.085536923187668,
          20.085536923187668,
          20.085536923187668
         ]
        }
       ],
       "layout": {
        "autosize": true,
        "hovermode": "x unified",
        "showlegend": true,
        "template": {
         "data": {
          "bar": [
           {
            "error_x": {
             "color": "#2a3f5f"
            },
            "error_y": {
             "color": "#2a3f5f"
            },
            "marker": {
             "line": {
              "color": "#E5ECF6",
              "width": 0.5
             },
             "pattern": {
              "fillmode": "overlay",
              "size": 10,
              "solidity": 0.2
             }
            },
            "type": "bar"
           }
          ],
          "barpolar": [
           {
            "marker": {
             "line": {
              "color": "#E5ECF6",
              "width": 0.5
             },
             "pattern": {
              "fillmode": "overlay",
              "size": 10,
              "solidity": 0.2
             }
            },
            "type": "barpolar"
           }
          ],
          "carpet": [
           {
            "aaxis": {
             "endlinecolor": "#2a3f5f",
             "gridcolor": "white",
             "linecolor": "white",
             "minorgridcolor": "white",
             "startlinecolor": "#2a3f5f"
            },
            "baxis": {
             "endlinecolor": "#2a3f5f",
             "gridcolor": "white",
             "linecolor": "white",
             "minorgridcolor": "white",
             "startlinecolor": "#2a3f5f"
            },
            "type": "carpet"
           }
          ],
          "choropleth": [
           {
            "colorbar": {
             "outlinewidth": 0,
             "ticks": ""
            },
            "type": "choropleth"
           }
          ],
          "contour": [
           {
            "colorbar": {
             "outlinewidth": 0,
             "ticks": ""
            },
            "colorscale": [
             [
              0,
              "#0d0887"
             ],
             [
              0.1111111111111111,
              "#46039f"
             ],
             [
              0.2222222222222222,
              "#7201a8"
             ],
             [
              0.3333333333333333,
              "#9c179e"
             ],
             [
              0.4444444444444444,
              "#bd3786"
             ],
             [
              0.5555555555555556,
              "#d8576b"
             ],
             [
              0.6666666666666666,
              "#ed7953"
             ],
             [
              0.7777777777777778,
              "#fb9f3a"
             ],
             [
              0.8888888888888888,
              "#fdca26"
             ],
             [
              1,
              "#f0f921"
             ]
            ],
            "type": "contour"
           }
          ],
          "contourcarpet": [
           {
            "colorbar": {
             "outlinewidth": 0,
             "ticks": ""
            },
            "type": "contourcarpet"
           }
          ],
          "heatmap": [
           {
            "colorbar": {
             "outlinewidth": 0,
             "ticks": ""
            },
            "colorscale": [
             [
              0,
              "#0d0887"
             ],
             [
              0.1111111111111111,
              "#46039f"
             ],
             [
              0.2222222222222222,
              "#7201a8"
             ],
             [
              0.3333333333333333,
              "#9c179e"
             ],
             [
              0.4444444444444444,
              "#bd3786"
             ],
             [
              0.5555555555555556,
              "#d8576b"
             ],
             [
              0.6666666666666666,
              "#ed7953"
             ],
             [
              0.7777777777777778,
              "#fb9f3a"
             ],
             [
              0.8888888888888888,
              "#fdca26"
             ],
             [
              1,
              "#f0f921"
             ]
            ],
            "type": "heatmap"
           }
          ],
          "histogram": [
           {
            "marker": {
             "pattern": {
              "fillmode": "overlay",
              "size": 10,
              "solidity": 0.2
             }
            },
            "type": "histogram"
           }
          ],
          "histogram2d": [
           {
            "colorbar": {
             "outlinewidth": 0,
             "ticks": ""
            },
            "colorscale": [
             [
              0,
              "#0d0887"
             ],
             [
              0.1111111111111111,
              "#46039f"
             ],
             [
              0.2222222222222222,
              "#7201a8"
             ],
             [
              0.3333333333333333,
              "#9c179e"
             ],
             [
              0.4444444444444444,
              "#bd3786"
             ],
             [
              0.5555555555555556,
              "#d8576b"
             ],
             [
              0.6666666666666666,
              "#ed7953"
             ],
             [
              0.7777777777777778,
              "#fb9f3a"
             ],
             [
              0.8888888888888888,
              "#fdca26"
             ],
             [
              1,
              "#f0f921"
             ]
            ],
            "type": "histogram2d"
           }
          ],
          "histogram2dcontour": [
           {
            "colorbar": {
             "outlinewidth": 0,
             "ticks": ""
            },
            "colorscale": [
             [
              0,
              "#0d0887"
             ],
             [
              0.1111111111111111,
              "#46039f"
             ],
             [
              0.2222222222222222,
              "#7201a8"
             ],
             [
              0.3333333333333333,
              "#9c179e"
             ],
             [
              0.4444444444444444,
              "#bd3786"
             ],
             [
              0.5555555555555556,
              "#d8576b"
             ],
             [
              0.6666666666666666,
              "#ed7953"
             ],
             [
              0.7777777777777778,
              "#fb9f3a"
             ],
             [
              0.8888888888888888,
              "#fdca26"
             ],
             [
              1,
              "#f0f921"
             ]
            ],
            "type": "histogram2dcontour"
           }
          ],
          "mesh3d": [
           {
            "colorbar": {
             "outlinewidth": 0,
             "ticks": ""
            },
            "type": "mesh3d"
           }
          ],
          "parcoords": [
           {
            "line": {
             "colorbar": {
              "outlinewidth": 0,
              "ticks": ""
             }
            },
            "type": "parcoords"
           }
          ],
          "pie": [
           {
            "automargin": true,
            "type": "pie"
           }
          ],
          "scatter": [
           {
            "fillpattern": {
             "fillmode": "overlay",
             "size": 10,
             "solidity": 0.2
            },
            "type": "scatter"
           }
          ],
          "scatter3d": [
           {
            "line": {
             "colorbar": {
              "outlinewidth": 0,
              "ticks": ""
             }
            },
            "marker": {
             "colorbar": {
              "outlinewidth": 0,
              "ticks": ""
             }
            },
            "type": "scatter3d"
           }
          ],
          "scattercarpet": [
           {
            "marker": {
             "colorbar": {
              "outlinewidth": 0,
              "ticks": ""
             }
            },
            "type": "scattercarpet"
           }
          ],
          "scattergeo": [
           {
            "marker": {
             "colorbar": {
              "outlinewidth": 0,
              "ticks": ""
             }
            },
            "type": "scattergeo"
           }
          ],
          "scattergl": [
           {
            "marker": {
             "colorbar": {
              "outlinewidth": 0,
              "ticks": ""
             }
            },
            "type": "scattergl"
           }
          ],
          "scattermap": [
           {
            "marker": {
             "colorbar": {
              "outlinewidth": 0,
              "ticks": ""
             }
            },
            "type": "scattermap"
           }
          ],
          "scattermapbox": [
           {
            "marker": {
             "colorbar": {
              "outlinewidth": 0,
              "ticks": ""
             }
            },
            "type": "scattermapbox"
           }
          ],
          "scatterpolar": [
           {
            "marker": {
             "colorbar": {
              "outlinewidth": 0,
              "ticks": ""
             }
            },
            "type": "scatterpolar"
           }
          ],
          "scatterpolargl": [
           {
            "marker": {
             "colorbar": {
              "outlinewidth": 0,
              "ticks": ""
             }
            },
            "type": "scatterpolargl"
           }
          ],
          "scatterternary": [
           {
            "marker": {
             "colorbar": {
              "outlinewidth": 0,
              "ticks": ""
             }
            },
            "type": "scatterternary"
           }
          ],
          "surface": [
           {
            "colorbar": {
             "outlinewidth": 0,
             "ticks": ""
            },
            "colorscale": [
             [
              0,
              "#0d0887"
             ],
             [
              0.1111111111111111,
              "#46039f"
             ],
             [
              0.2222222222222222,
              "#7201a8"
             ],
             [
              0.3333333333333333,
              "#9c179e"
             ],
             [
              0.4444444444444444,
              "#bd3786"
             ],
             [
              0.5555555555555556,
              "#d8576b"
             ],
             [
              0.6666666666666666,
              "#ed7953"
             ],
             [
              0.7777777777777778,
              "#fb9f3a"
             ],
             [
              0.8888888888888888,
              "#fdca26"
             ],
             [
              1,
              "#f0f921"
             ]
            ],
            "type": "surface"
           }
          ],
          "table": [
           {
            "cells": {
             "fill": {
              "color": "#EBF0F8"
             },
             "line": {
              "color": "white"
             }
            },
            "header": {
             "fill": {
              "color": "#C8D4E3"
             },
             "line": {
              "color": "white"
             }
            },
            "type": "table"
           }
          ]
         },
         "layout": {
          "annotationdefaults": {
           "arrowcolor": "#2a3f5f",
           "arrowhead": 0,
           "arrowwidth": 1
          },
          "autotypenumbers": "strict",
          "coloraxis": {
           "colorbar": {
            "outlinewidth": 0,
            "ticks": ""
           }
          },
          "colorscale": {
           "diverging": [
            [
             0,
             "#8e0152"
            ],
            [
             0.1,
             "#c51b7d"
            ],
            [
             0.2,
             "#de77ae"
            ],
            [
             0.3,
             "#f1b6da"
            ],
            [
             0.4,
             "#fde0ef"
            ],
            [
             0.5,
             "#f7f7f7"
            ],
            [
             0.6,
             "#e6f5d0"
            ],
            [
             0.7,
             "#b8e186"
            ],
            [
             0.8,
             "#7fbc41"
            ],
            [
             0.9,
             "#4d9221"
            ],
            [
             1,
             "#276419"
            ]
           ],
           "sequential": [
            [
             0,
             "#0d0887"
            ],
            [
             0.1111111111111111,
             "#46039f"
            ],
            [
             0.2222222222222222,
             "#7201a8"
            ],
            [
             0.3333333333333333,
             "#9c179e"
            ],
            [
             0.4444444444444444,
             "#bd3786"
            ],
            [
             0.5555555555555556,
             "#d8576b"
            ],
            [
             0.6666666666666666,
             "#ed7953"
            ],
            [
             0.7777777777777778,
             "#fb9f3a"
            ],
            [
             0.8888888888888888,
             "#fdca26"
            ],
            [
             1,
             "#f0f921"
            ]
           ],
           "sequentialminus": [
            [
             0,
             "#0d0887"
            ],
            [
             0.1111111111111111,
             "#46039f"
            ],
            [
             0.2222222222222222,
             "#7201a8"
            ],
            [
             0.3333333333333333,
             "#9c179e"
            ],
            [
             0.4444444444444444,
             "#bd3786"
            ],
            [
             0.5555555555555556,
             "#d8576b"
            ],
            [
             0.6666666666666666,
             "#ed7953"
            ],
            [
             0.7777777777777778,
             "#fb9f3a"
            ],
            [
             0.8888888888888888,
             "#fdca26"
            ],
            [
             1,
             "#f0f921"
            ]
           ]
          },
          "colorway": [
           "#636efa",
           "#EF553B",
           "#00cc96",
           "#ab63fa",
           "#FFA15A",
           "#19d3f3",
           "#FF6692",
           "#B6E880",
           "#FF97FF",
           "#FECB52"
          ],
          "font": {
           "color": "#2a3f5f"
          },
          "geo": {
           "bgcolor": "white",
           "lakecolor": "white",
           "landcolor": "#E5ECF6",
           "showlakes": true,
           "showland": true,
           "subunitcolor": "white"
          },
          "hoverlabel": {
           "align": "left"
          },
          "hovermode": "closest",
          "mapbox": {
           "style": "light"
          },
          "paper_bgcolor": "white",
          "plot_bgcolor": "#E5ECF6",
          "polar": {
           "angularaxis": {
            "gridcolor": "white",
            "linecolor": "white",
            "ticks": ""
           },
           "bgcolor": "#E5ECF6",
           "radialaxis": {
            "gridcolor": "white",
            "linecolor": "white",
            "ticks": ""
           }
          },
          "scene": {
           "xaxis": {
            "backgroundcolor": "#E5ECF6",
            "gridcolor": "white",
            "gridwidth": 2,
            "linecolor": "white",
            "showbackground": true,
            "ticks": "",
            "zerolinecolor": "white"
           },
           "yaxis": {
            "backgroundcolor": "#E5ECF6",
            "gridcolor": "white",
            "gridwidth": 2,
            "linecolor": "white",
            "showbackground": true,
            "ticks": "",
            "zerolinecolor": "white"
           },
           "zaxis": {
            "backgroundcolor": "#E5ECF6",
            "gridcolor": "white",
            "gridwidth": 2,
            "linecolor": "white",
            "showbackground": true,
            "ticks": "",
            "zerolinecolor": "white"
           }
          },
          "shapedefaults": {
           "line": {
            "color": "#2a3f5f"
           }
          },
          "ternary": {
           "aaxis": {
            "gridcolor": "white",
            "linecolor": "white",
            "ticks": ""
           },
           "baxis": {
            "gridcolor": "white",
            "linecolor": "white",
            "ticks": ""
           },
           "bgcolor": "#E5ECF6",
           "caxis": {
            "gridcolor": "white",
            "linecolor": "white",
            "ticks": ""
           }
          },
          "title": {
           "x": 0.05
          },
          "xaxis": {
           "automargin": true,
           "gridcolor": "white",
           "linecolor": "white",
           "ticks": "",
           "title": {
            "standoff": 15
           },
           "zerolinecolor": "white",
           "zerolinewidth": 2
          },
          "yaxis": {
           "automargin": true,
           "gridcolor": "white",
           "linecolor": "white",
           "ticks": "",
           "title": {
            "standoff": 15
           },
           "zerolinecolor": "white",
           "zerolinewidth": 2
          }
         }
        },
        "title": {
         "text": "Error in Taylor Series Approximation for e^x"
        },
        "xaxis": {
         "title": {
          "text": "Number of Terms (n)"
         }
        },
        "yaxis": {
         "title": {
          "text": "Value"
         }
        }
       }
      }
     },
     "metadata": {},
     "output_type": "display_data"
    }
   ],
   "source": [
    "plot_ex(3, range(999,1005), precision=50000)"
   ]
  },
  {
   "cell_type": "code",
   "execution_count": null,
   "id": "33a6eb2b",
   "metadata": {},
   "outputs": [],
   "source": []
  }
 ],
 "metadata": {
  "kernelspec": {
   "display_name": "Python 3",
   "language": "python",
   "name": "python3"
  },
  "language_info": {
   "codemirror_mode": {
    "name": "ipython",
    "version": 3
   },
   "file_extension": ".py",
   "mimetype": "text/x-python",
   "name": "python",
   "nbconvert_exporter": "python",
   "pygments_lexer": "ipython3",
   "version": "3.13.2"
  }
 },
 "nbformat": 4,
 "nbformat_minor": 5
}
