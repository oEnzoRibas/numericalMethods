{
 "cells": [
  {
   "cell_type": "code",
   "execution_count": 2,
   "id": "d08e4d39",
   "metadata": {},
   "outputs": [],
   "source": [
    "import numpy as np\n",
    "import math\n",
    "import matplotlib.pyplot as plt\n",
    "import seaborn as sns\n",
    "import plotly.express as px"
   ]
  },
  {
   "cell_type": "code",
   "execution_count": null,
   "id": "5ffd0e56",
   "metadata": {},
   "outputs": [],
   "source": [
    "aSimple = np.float32(1)\n",
    "sSimple = np.float32(2)\n",
    "\n",
    "aDouble = np.float64(1)\n",
    "sDouble = np.float64(2)\n"
   ]
  },
  {
   "cell_type": "code",
   "execution_count": 4,
   "id": "c56b4937",
   "metadata": {},
   "outputs": [],
   "source": [
    "def prec(a):\n",
    "    return 2*a\n"
   ]
  },
  {
   "cell_type": "code",
   "execution_count": 14,
   "id": "acc3e348",
   "metadata": {},
   "outputs": [],
   "source": [
    "while(s > 1):\n",
    "    print(prec(a))\n",
    "    a = a/2\n",
    "    s = 1 + a"
   ]
  },
  {
   "cell_type": "code",
   "execution_count": 15,
   "id": "de5b95bd",
   "metadata": {},
   "outputs": [
    {
     "name": "stdout",
     "output_type": "stream",
     "text": [
      "Single precision a: 5.551115123125783e-17, s: 1.0\n",
      "Double precision a: 5.551115123125783e-17, s: 1.0\n"
     ]
    }
   ],
   "source": [
    "# Single precision (32-bit)\n",
    "a_single = np.float32(a)\n",
    "s_single = np.float32(s)\n",
    "\n",
    "# Double precision (64-bit)\n",
    "a_double = np.float64(a)\n",
    "s_double = np.float64(s)\n",
    "\n",
    "print(f\"Single precision a: {a_single}, s: {s_single}\")\n",
    "print(f\"Double precision a: {a_double}, s: {s_double}\")"
   ]
  },
  {
   "cell_type": "code",
   "execution_count": null,
   "id": "de3423db",
   "metadata": {},
   "outputs": [],
   "source": []
  }
 ],
 "metadata": {
  "kernelspec": {
   "display_name": "Python 3",
   "language": "python",
   "name": "python3"
  },
  "language_info": {
   "codemirror_mode": {
    "name": "ipython",
    "version": 3
   },
   "file_extension": ".py",
   "mimetype": "text/x-python",
   "name": "python",
   "nbconvert_exporter": "python",
   "pygments_lexer": "ipython3",
   "version": "3.13.1"
  }
 },
 "nbformat": 4,
 "nbformat_minor": 5
}
