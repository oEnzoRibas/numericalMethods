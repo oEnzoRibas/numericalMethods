{
 "cells": [
  {
   "cell_type": "code",
   "execution_count": 2,
   "id": "d08e4d39",
   "metadata": {},
   "outputs": [],
   "source": [
    "import numpy as np\n",
    "import math\n",
    "import matplotlib.pyplot as plt\n",
    "import seaborn as sns\n",
    "import plotly.express as px"
   ]
  },
  {
   "cell_type": "code",
   "execution_count": 26,
   "id": "5ffd0e56",
   "metadata": {},
   "outputs": [],
   "source": [
    "aSingle = np.float32(1)\n",
    "sSingle = np.float32(2)\n",
    "\n",
    "aDouble = np.float64(1)\n",
    "sDouble = np.float64(2)\n"
   ]
  },
  {
   "cell_type": "code",
   "execution_count": 27,
   "id": "c56b4937",
   "metadata": {},
   "outputs": [],
   "source": [
    "def prec(a):\n",
    "    return 2*a\n"
   ]
  },
  {
   "cell_type": "code",
   "execution_count": 28,
   "id": "acc3e348",
   "metadata": {},
   "outputs": [],
   "source": [
    "while(s > 1):\n",
    "    print(prec(aSingle))\n",
    "    a = a/2\n",
    "    s = 1 + a"
   ]
  },
  {
   "cell_type": "code",
   "execution_count": 29,
   "id": "de5b95bd",
   "metadata": {},
   "outputs": [
    {
     "name": "stdout",
     "output_type": "stream",
     "text": [
      "Single precision a: 1.0, s: 2.0\n",
      "Double precision a: 1.0, s: 2.0\n"
     ]
    }
   ],
   "source": [
    "print(f\"Single precision a: {aSingle}, s: {sSingle}\")\n",
    "print(f\"Double precision a: {aDouble}, s: {sDouble}\")"
   ]
  },
  {
   "cell_type": "code",
   "execution_count": null,
   "id": "de3423db",
   "metadata": {},
   "outputs": [],
   "source": []
  }
 ],
 "metadata": {
  "kernelspec": {
   "display_name": "Python 3",
   "language": "python",
   "name": "python3"
  },
  "language_info": {
   "codemirror_mode": {
    "name": "ipython",
    "version": 3
   },
   "file_extension": ".py",
   "mimetype": "text/x-python",
   "name": "python",
   "nbconvert_exporter": "python",
   "pygments_lexer": "ipython3",
   "version": "3.13.1"
  }
 },
 "nbformat": 4,
 "nbformat_minor": 5
}
